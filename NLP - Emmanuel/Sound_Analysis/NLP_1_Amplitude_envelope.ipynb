{
 "cells": [
  {
   "cell_type": "code",
   "execution_count": 2,
   "id": "47d8e10a",
   "metadata": {},
   "outputs": [],
   "source": [
    "# Trabajar solo con maximos nos hace perder \"maximos locales\"\n",
    "# Ventana deslizante\n",
    "# En lugar de tomar un segmento de datos, tomamos datos por pasitos haciendo que reprocesemos los mismos datos\n",
    "# Para reducir la pérdida se reduce el tamaño de la ventana\n",
    "# Para un envelope con una sola ventana se pierde todo lo demás\n",
    "# Outliers - valor atípicos 3 veces el mayor (en este caso los borramos)\n",
    "# Alta varianza indica dispersión\n",
    "# Root Mean Square N - util para el analisis de intensidad - sirve más para valores medios\n",
    " "
   ]
  },
  {
   "cell_type": "code",
   "execution_count": null,
   "id": "319359ba",
   "metadata": {},
   "outputs": [],
   "source": [
    "def get_amplitude_envelope(signal, frame_size, window_size):\n",
    "    envelope = []\n",
    "    for i in range(0):"
   ]
  }
 ],
 "metadata": {
  "kernelspec": {
   "display_name": "Python 3 (ipykernel)",
   "language": "python",
   "name": "python3"
  },
  "language_info": {
   "codemirror_mode": {
    "name": "ipython",
    "version": 3
   },
   "file_extension": ".py",
   "mimetype": "text/x-python",
   "name": "python",
   "nbconvert_exporter": "python",
   "pygments_lexer": "ipython3",
   "version": "3.11.5"
  }
 },
 "nbformat": 4,
 "nbformat_minor": 5
}
