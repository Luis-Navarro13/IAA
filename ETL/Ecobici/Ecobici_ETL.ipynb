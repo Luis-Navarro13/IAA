{
 "cells": [
  {
   "cell_type": "code",
   "execution_count": 12,
   "id": "bc3b4607",
   "metadata": {},
   "outputs": [],
   "source": [
    "import numpy as np\n",
    "import pandas as pd\n",
    "import requests"
   ]
  },
  {
   "cell_type": "code",
   "execution_count": null,
   "id": "e861ec90",
   "metadata": {},
   "outputs": [],
   "source": []
  },
  {
   "cell_type": "code",
   "execution_count": 21,
   "id": "45f274bd",
   "metadata": {},
   "outputs": [],
   "source": [
    "df = pd.read_csv('2025-01.csv')"
   ]
  },
  {
   "cell_type": "code",
   "execution_count": 14,
   "id": "2ef69445",
   "metadata": {},
   "outputs": [
    {
     "data": {
      "text/html": [
       "<div>\n",
       "<style scoped>\n",
       "    .dataframe tbody tr th:only-of-type {\n",
       "        vertical-align: middle;\n",
       "    }\n",
       "\n",
       "    .dataframe tbody tr th {\n",
       "        vertical-align: top;\n",
       "    }\n",
       "\n",
       "    .dataframe thead th {\n",
       "        text-align: right;\n",
       "    }\n",
       "</style>\n",
       "<table border=\"1\" class=\"dataframe\">\n",
       "  <thead>\n",
       "    <tr style=\"text-align: right;\">\n",
       "      <th></th>\n",
       "      <th>Genero_Usuario</th>\n",
       "      <th>Edad_Usuario</th>\n",
       "      <th>Bici</th>\n",
       "      <th>Ciclo_Estacion_Retiro</th>\n",
       "      <th>Fecha_Retiro</th>\n",
       "      <th>Hora_Retiro</th>\n",
       "      <th>Ciclo_EstacionArribo</th>\n",
       "      <th>Fecha_Arribo</th>\n",
       "      <th>Hora_Arribo</th>\n",
       "    </tr>\n",
       "  </thead>\n",
       "  <tbody>\n",
       "    <tr>\n",
       "      <th>0</th>\n",
       "      <td>M</td>\n",
       "      <td>26.0</td>\n",
       "      <td>5180930</td>\n",
       "      <td>568</td>\n",
       "      <td>31/12/2024</td>\n",
       "      <td>23:57:02</td>\n",
       "      <td>572</td>\n",
       "      <td>01/01/2025</td>\n",
       "      <td>00:00:03</td>\n",
       "    </tr>\n",
       "    <tr>\n",
       "      <th>1</th>\n",
       "      <td>F</td>\n",
       "      <td>54.0</td>\n",
       "      <td>3653953</td>\n",
       "      <td>283</td>\n",
       "      <td>31/12/2024</td>\n",
       "      <td>23:51:40</td>\n",
       "      <td>596</td>\n",
       "      <td>01/01/2025</td>\n",
       "      <td>00:00:41</td>\n",
       "    </tr>\n",
       "    <tr>\n",
       "      <th>2</th>\n",
       "      <td>M</td>\n",
       "      <td>38.0</td>\n",
       "      <td>7511322</td>\n",
       "      <td>034</td>\n",
       "      <td>31/12/2024</td>\n",
       "      <td>23:48:36</td>\n",
       "      <td>064</td>\n",
       "      <td>01/01/2025</td>\n",
       "      <td>00:00:59</td>\n",
       "    </tr>\n",
       "    <tr>\n",
       "      <th>3</th>\n",
       "      <td>M</td>\n",
       "      <td>41.0</td>\n",
       "      <td>3804572</td>\n",
       "      <td>258</td>\n",
       "      <td>31/12/2024</td>\n",
       "      <td>23:54:11</td>\n",
       "      <td>023</td>\n",
       "      <td>01/01/2025</td>\n",
       "      <td>00:01:08</td>\n",
       "    </tr>\n",
       "    <tr>\n",
       "      <th>4</th>\n",
       "      <td>M</td>\n",
       "      <td>35.0</td>\n",
       "      <td>3848405</td>\n",
       "      <td>043</td>\n",
       "      <td>31/12/2024</td>\n",
       "      <td>23:35:28</td>\n",
       "      <td>126</td>\n",
       "      <td>01/01/2025</td>\n",
       "      <td>00:01:17</td>\n",
       "    </tr>\n",
       "    <tr>\n",
       "      <th>5</th>\n",
       "      <td>M</td>\n",
       "      <td>24.0</td>\n",
       "      <td>7579436</td>\n",
       "      <td>222</td>\n",
       "      <td>31/12/2024</td>\n",
       "      <td>23:34:33</td>\n",
       "      <td>483</td>\n",
       "      <td>01/01/2025</td>\n",
       "      <td>00:01:58</td>\n",
       "    </tr>\n",
       "    <tr>\n",
       "      <th>6</th>\n",
       "      <td>M</td>\n",
       "      <td>31.0</td>\n",
       "      <td>7161920</td>\n",
       "      <td>034</td>\n",
       "      <td>31/12/2024</td>\n",
       "      <td>23:25:47</td>\n",
       "      <td>688</td>\n",
       "      <td>01/01/2025</td>\n",
       "      <td>00:02:16</td>\n",
       "    </tr>\n",
       "    <tr>\n",
       "      <th>7</th>\n",
       "      <td>M</td>\n",
       "      <td>22.0</td>\n",
       "      <td>7220593</td>\n",
       "      <td>254</td>\n",
       "      <td>31/12/2024</td>\n",
       "      <td>23:50:20</td>\n",
       "      <td>539</td>\n",
       "      <td>01/01/2025</td>\n",
       "      <td>00:02:41</td>\n",
       "    </tr>\n",
       "    <tr>\n",
       "      <th>8</th>\n",
       "      <td>M</td>\n",
       "      <td>29.0</td>\n",
       "      <td>4031258</td>\n",
       "      <td>560</td>\n",
       "      <td>31/12/2024</td>\n",
       "      <td>23:52:11</td>\n",
       "      <td>120</td>\n",
       "      <td>01/01/2025</td>\n",
       "      <td>00:03:28</td>\n",
       "    </tr>\n",
       "    <tr>\n",
       "      <th>9</th>\n",
       "      <td>F</td>\n",
       "      <td>24.0</td>\n",
       "      <td>6463376</td>\n",
       "      <td>560</td>\n",
       "      <td>31/12/2024</td>\n",
       "      <td>23:51:50</td>\n",
       "      <td>120</td>\n",
       "      <td>01/01/2025</td>\n",
       "      <td>00:03:31</td>\n",
       "    </tr>\n",
       "  </tbody>\n",
       "</table>\n",
       "</div>"
      ],
      "text/plain": [
       "  Genero_Usuario  Edad_Usuario     Bici Ciclo_Estacion_Retiro Fecha_Retiro  \\\n",
       "0              M          26.0  5180930                   568   31/12/2024   \n",
       "1              F          54.0  3653953                   283   31/12/2024   \n",
       "2              M          38.0  7511322                   034   31/12/2024   \n",
       "3              M          41.0  3804572                   258   31/12/2024   \n",
       "4              M          35.0  3848405                   043   31/12/2024   \n",
       "5              M          24.0  7579436                   222   31/12/2024   \n",
       "6              M          31.0  7161920                   034   31/12/2024   \n",
       "7              M          22.0  7220593                   254   31/12/2024   \n",
       "8              M          29.0  4031258                   560   31/12/2024   \n",
       "9              F          24.0  6463376                   560   31/12/2024   \n",
       "\n",
       "  Hora_Retiro Ciclo_EstacionArribo Fecha_Arribo Hora_Arribo  \n",
       "0    23:57:02                  572   01/01/2025    00:00:03  \n",
       "1    23:51:40                  596   01/01/2025    00:00:41  \n",
       "2    23:48:36                  064   01/01/2025    00:00:59  \n",
       "3    23:54:11                  023   01/01/2025    00:01:08  \n",
       "4    23:35:28                  126   01/01/2025    00:01:17  \n",
       "5    23:34:33                  483   01/01/2025    00:01:58  \n",
       "6    23:25:47                  688   01/01/2025    00:02:16  \n",
       "7    23:50:20                  539   01/01/2025    00:02:41  \n",
       "8    23:52:11                  120   01/01/2025    00:03:28  \n",
       "9    23:51:50                  120   01/01/2025    00:03:31  "
      ]
     },
     "execution_count": 14,
     "metadata": {},
     "output_type": "execute_result"
    }
   ],
   "source": [
    "df.head(10)"
   ]
  },
  {
   "cell_type": "code",
   "execution_count": 15,
   "id": "bad01c9d",
   "metadata": {},
   "outputs": [
    {
     "name": "stdout",
     "output_type": "stream",
     "text": [
      "El número total de registros es: 1809775\n"
     ]
    }
   ],
   "source": [
    "print(\"El número total de registros es:\",len(df))"
   ]
  },
  {
   "cell_type": "code",
   "execution_count": 16,
   "id": "3adadf07",
   "metadata": {},
   "outputs": [
    {
     "name": "stdout",
     "output_type": "stream",
     "text": [
      "Tamaño del dataset\n",
      "(1809775, 9)\n"
     ]
    }
   ],
   "source": [
    "print(\"Tamaño del dataset\")\n",
    "print(df.shape)"
   ]
  },
  {
   "cell_type": "code",
   "execution_count": 17,
   "id": "00bb177c",
   "metadata": {},
   "outputs": [
    {
     "data": {
      "text/plain": [
       "Genero_Usuario             1\n",
       "Edad_Usuario             147\n",
       "Bici                       0\n",
       "Ciclo_Estacion_Retiro      0\n",
       "Fecha_Retiro               0\n",
       "Hora_Retiro                0\n",
       "Ciclo_EstacionArribo       0\n",
       "Fecha_Arribo               0\n",
       "Hora_Arribo                0\n",
       "dtype: int64"
      ]
     },
     "execution_count": 17,
     "metadata": {},
     "output_type": "execute_result"
    }
   ],
   "source": [
    "df.isnull().sum()"
   ]
  },
  {
   "cell_type": "code",
   "execution_count": 18,
   "id": "e6b9ae76",
   "metadata": {},
   "outputs": [
    {
     "name": "stderr",
     "output_type": "stream",
     "text": [
      "C:\\Users\\luisn\\AppData\\Local\\Temp\\ipykernel_6872\\1078579547.py:1: UserWarning: Parsing dates in %d/%m/%Y format when dayfirst=False (the default) was specified. Pass `dayfirst=True` or specify a format to silence this warning.\n",
      "  df['Fecha_Retiro'] = pd.to_datetime(df['Fecha_Retiro'])\n"
     ]
    },
    {
     "ename": "ValueError",
     "evalue": "time data \"13/01/2025\" doesn't match format \"%m/%d/%Y\", at position 12. You might want to try:\n    - passing `format` if your strings have a consistent format;\n    - passing `format='ISO8601'` if your strings are all ISO8601 but not necessarily in exactly the same format;\n    - passing `format='mixed'`, and the format will be inferred for each element individually. You might want to use `dayfirst` alongside this.",
     "output_type": "error",
     "traceback": [
      "\u001b[1;31m---------------------------------------------------------------------------\u001b[0m",
      "\u001b[1;31mValueError\u001b[0m                                Traceback (most recent call last)",
      "Cell \u001b[1;32mIn[18], line 2\u001b[0m\n\u001b[0;32m      1\u001b[0m df[\u001b[38;5;124m'\u001b[39m\u001b[38;5;124mFecha_Retiro\u001b[39m\u001b[38;5;124m'\u001b[39m] \u001b[38;5;241m=\u001b[39m pd\u001b[38;5;241m.\u001b[39mto_datetime(df[\u001b[38;5;124m'\u001b[39m\u001b[38;5;124mFecha_Retiro\u001b[39m\u001b[38;5;124m'\u001b[39m])\n\u001b[1;32m----> 2\u001b[0m df[\u001b[38;5;124m'\u001b[39m\u001b[38;5;124mFecha_Arribo\u001b[39m\u001b[38;5;124m'\u001b[39m] \u001b[38;5;241m=\u001b[39m pd\u001b[38;5;241m.\u001b[39mto_datetime(df[\u001b[38;5;124m'\u001b[39m\u001b[38;5;124mFecha_Arribo\u001b[39m\u001b[38;5;124m'\u001b[39m])\n",
      "File \u001b[1;32m~\\anaconda3\\Lib\\site-packages\\pandas\\core\\tools\\datetimes.py:1046\u001b[0m, in \u001b[0;36mto_datetime\u001b[1;34m(arg, errors, dayfirst, yearfirst, utc, format, exact, unit, infer_datetime_format, origin, cache)\u001b[0m\n\u001b[0;32m   1044\u001b[0m             result \u001b[38;5;241m=\u001b[39m arg\u001b[38;5;241m.\u001b[39mtz_localize(\u001b[38;5;124m\"\u001b[39m\u001b[38;5;124mutc\u001b[39m\u001b[38;5;124m\"\u001b[39m)\n\u001b[0;32m   1045\u001b[0m \u001b[38;5;28;01melif\u001b[39;00m \u001b[38;5;28misinstance\u001b[39m(arg, ABCSeries):\n\u001b[1;32m-> 1046\u001b[0m     cache_array \u001b[38;5;241m=\u001b[39m _maybe_cache(arg, \u001b[38;5;28mformat\u001b[39m, cache, convert_listlike)\n\u001b[0;32m   1047\u001b[0m     \u001b[38;5;28;01mif\u001b[39;00m \u001b[38;5;129;01mnot\u001b[39;00m cache_array\u001b[38;5;241m.\u001b[39mempty:\n\u001b[0;32m   1048\u001b[0m         result \u001b[38;5;241m=\u001b[39m arg\u001b[38;5;241m.\u001b[39mmap(cache_array)\n",
      "File \u001b[1;32m~\\anaconda3\\Lib\\site-packages\\pandas\\core\\tools\\datetimes.py:250\u001b[0m, in \u001b[0;36m_maybe_cache\u001b[1;34m(arg, format, cache, convert_listlike)\u001b[0m\n\u001b[0;32m    248\u001b[0m unique_dates \u001b[38;5;241m=\u001b[39m unique(arg)\n\u001b[0;32m    249\u001b[0m \u001b[38;5;28;01mif\u001b[39;00m \u001b[38;5;28mlen\u001b[39m(unique_dates) \u001b[38;5;241m<\u001b[39m \u001b[38;5;28mlen\u001b[39m(arg):\n\u001b[1;32m--> 250\u001b[0m     cache_dates \u001b[38;5;241m=\u001b[39m convert_listlike(unique_dates, \u001b[38;5;28mformat\u001b[39m)\n\u001b[0;32m    251\u001b[0m     \u001b[38;5;66;03m# GH#45319\u001b[39;00m\n\u001b[0;32m    252\u001b[0m     \u001b[38;5;28;01mtry\u001b[39;00m:\n",
      "File \u001b[1;32m~\\anaconda3\\Lib\\site-packages\\pandas\\core\\tools\\datetimes.py:453\u001b[0m, in \u001b[0;36m_convert_listlike_datetimes\u001b[1;34m(arg, format, name, utc, unit, errors, dayfirst, yearfirst, exact)\u001b[0m\n\u001b[0;32m    451\u001b[0m \u001b[38;5;66;03m# `format` could be inferred, or user didn't ask for mixed-format parsing.\u001b[39;00m\n\u001b[0;32m    452\u001b[0m \u001b[38;5;28;01mif\u001b[39;00m \u001b[38;5;28mformat\u001b[39m \u001b[38;5;129;01mis\u001b[39;00m \u001b[38;5;129;01mnot\u001b[39;00m \u001b[38;5;28;01mNone\u001b[39;00m \u001b[38;5;129;01mand\u001b[39;00m \u001b[38;5;28mformat\u001b[39m \u001b[38;5;241m!=\u001b[39m \u001b[38;5;124m\"\u001b[39m\u001b[38;5;124mmixed\u001b[39m\u001b[38;5;124m\"\u001b[39m:\n\u001b[1;32m--> 453\u001b[0m     \u001b[38;5;28;01mreturn\u001b[39;00m _array_strptime_with_fallback(arg, name, utc, \u001b[38;5;28mformat\u001b[39m, exact, errors)\n\u001b[0;32m    455\u001b[0m result, tz_parsed \u001b[38;5;241m=\u001b[39m objects_to_datetime64ns(\n\u001b[0;32m    456\u001b[0m     arg,\n\u001b[0;32m    457\u001b[0m     dayfirst\u001b[38;5;241m=\u001b[39mdayfirst,\n\u001b[1;32m   (...)\u001b[0m\n\u001b[0;32m    461\u001b[0m     allow_object\u001b[38;5;241m=\u001b[39m\u001b[38;5;28;01mTrue\u001b[39;00m,\n\u001b[0;32m    462\u001b[0m )\n\u001b[0;32m    464\u001b[0m \u001b[38;5;28;01mif\u001b[39;00m tz_parsed \u001b[38;5;129;01mis\u001b[39;00m \u001b[38;5;129;01mnot\u001b[39;00m \u001b[38;5;28;01mNone\u001b[39;00m:\n\u001b[0;32m    465\u001b[0m     \u001b[38;5;66;03m# We can take a shortcut since the datetime64 numpy array\u001b[39;00m\n\u001b[0;32m    466\u001b[0m     \u001b[38;5;66;03m# is in UTC\u001b[39;00m\n",
      "File \u001b[1;32m~\\anaconda3\\Lib\\site-packages\\pandas\\core\\tools\\datetimes.py:484\u001b[0m, in \u001b[0;36m_array_strptime_with_fallback\u001b[1;34m(arg, name, utc, fmt, exact, errors)\u001b[0m\n\u001b[0;32m    473\u001b[0m \u001b[38;5;28;01mdef\u001b[39;00m \u001b[38;5;21m_array_strptime_with_fallback\u001b[39m(\n\u001b[0;32m    474\u001b[0m     arg,\n\u001b[0;32m    475\u001b[0m     name,\n\u001b[1;32m   (...)\u001b[0m\n\u001b[0;32m    479\u001b[0m     errors: \u001b[38;5;28mstr\u001b[39m,\n\u001b[0;32m    480\u001b[0m ) \u001b[38;5;241m-\u001b[39m\u001b[38;5;241m>\u001b[39m Index:\n\u001b[0;32m    481\u001b[0m \u001b[38;5;250m    \u001b[39m\u001b[38;5;124;03m\"\"\"\u001b[39;00m\n\u001b[0;32m    482\u001b[0m \u001b[38;5;124;03m    Call array_strptime, with fallback behavior depending on 'errors'.\u001b[39;00m\n\u001b[0;32m    483\u001b[0m \u001b[38;5;124;03m    \"\"\"\u001b[39;00m\n\u001b[1;32m--> 484\u001b[0m     result, timezones \u001b[38;5;241m=\u001b[39m array_strptime(arg, fmt, exact\u001b[38;5;241m=\u001b[39mexact, errors\u001b[38;5;241m=\u001b[39merrors, utc\u001b[38;5;241m=\u001b[39mutc)\n\u001b[0;32m    485\u001b[0m     \u001b[38;5;28;01mif\u001b[39;00m \u001b[38;5;28many\u001b[39m(tz \u001b[38;5;129;01mis\u001b[39;00m \u001b[38;5;129;01mnot\u001b[39;00m \u001b[38;5;28;01mNone\u001b[39;00m \u001b[38;5;28;01mfor\u001b[39;00m tz \u001b[38;5;129;01min\u001b[39;00m timezones):\n\u001b[0;32m    486\u001b[0m         \u001b[38;5;28;01mreturn\u001b[39;00m _return_parsed_timezone_results(result, timezones, utc, name)\n",
      "File \u001b[1;32m~\\anaconda3\\Lib\\site-packages\\pandas\\_libs\\tslibs\\strptime.pyx:530\u001b[0m, in \u001b[0;36mpandas._libs.tslibs.strptime.array_strptime\u001b[1;34m()\u001b[0m\n",
      "File \u001b[1;32m~\\anaconda3\\Lib\\site-packages\\pandas\\_libs\\tslibs\\strptime.pyx:351\u001b[0m, in \u001b[0;36mpandas._libs.tslibs.strptime.array_strptime\u001b[1;34m()\u001b[0m\n",
      "\u001b[1;31mValueError\u001b[0m: time data \"13/01/2025\" doesn't match format \"%m/%d/%Y\", at position 12. You might want to try:\n    - passing `format` if your strings have a consistent format;\n    - passing `format='ISO8601'` if your strings are all ISO8601 but not necessarily in exactly the same format;\n    - passing `format='mixed'`, and the format will be inferred for each element individually. You might want to use `dayfirst` alongside this."
     ]
    }
   ],
   "source": [
    "df['Fecha_Retiro'] = pd.to_datetime(df['Fecha_Retiro'])\n",
    "df['Fecha_Arribo'] = pd.to_datetime(df['Fecha_Arribo'])"
   ]
  },
  {
   "cell_type": "code",
   "execution_count": 19,
   "id": "1ae9d270",
   "metadata": {},
   "outputs": [],
   "source": [
    "df['Fecha_Retiro'] = pd.to_datetime(df['Fecha_Retiro']).astype(str)"
   ]
  },
  {
   "cell_type": "code",
   "execution_count": 9,
   "id": "52165ac8",
   "metadata": {},
   "outputs": [],
   "source": [
    "df['Fecha_Retiro'] = df['Fecha_Retiro'].dt.strftime('%d/%m/%Y')\n",
    "df['Fecha_Arribo'] = df['Fecha_Arribo'].dt.strftime('%d/%m/%Y')\n",
    "df['Fecha_Retiro'] = pd.to_datetime(df['Fecha_Retiro']).dt.strftime('%d/%m/%Y')\n",
    "df['Fecha_Arribo'] = pd.to_datetime(df['Fecha_Arribo']).dt.strftime('%d/%m/%Y')\n",
    "\n",
    "# Formatear como dd/mm/yyyy (string)"
   ]
  },
  {
   "cell_type": "code",
   "execution_count": 10,
   "id": "36b96118",
   "metadata": {},
   "outputs": [],
   "source": []
  },
  {
   "cell_type": "code",
   "execution_count": 11,
   "id": "f9c8fb0b",
   "metadata": {},
   "outputs": [
    {
     "name": "stderr",
     "output_type": "stream",
     "text": [
      "C:\\Users\\luisn\\AppData\\Local\\Temp\\ipykernel_6872\\2355401934.py:1: UserWarning: Parsing dates in %d/%m/%Y %H:%M:%S format when dayfirst=False (the default) was specified. Pass `dayfirst=True` or specify a format to silence this warning.\n",
      "  df['Fecha_Hora_Retiro'] = pd.to_datetime(df['Fecha_Hora_Retiro'])\n"
     ]
    },
    {
     "ename": "ValueError",
     "evalue": "time data \"13/01/2025 00:00:01\" doesn't match format \"%m/%d/%Y %H:%M:%S\", at position 578254. You might want to try:\n    - passing `format` if your strings have a consistent format;\n    - passing `format='ISO8601'` if your strings are all ISO8601 but not necessarily in exactly the same format;\n    - passing `format='mixed'`, and the format will be inferred for each element individually. You might want to use `dayfirst` alongside this.",
     "output_type": "error",
     "traceback": [
      "\u001b[1;31m---------------------------------------------------------------------------\u001b[0m",
      "\u001b[1;31mValueError\u001b[0m                                Traceback (most recent call last)",
      "Cell \u001b[1;32mIn[11], line 2\u001b[0m\n\u001b[0;32m      1\u001b[0m df[\u001b[38;5;124m'\u001b[39m\u001b[38;5;124mFecha_Hora_Retiro\u001b[39m\u001b[38;5;124m'\u001b[39m] \u001b[38;5;241m=\u001b[39m pd\u001b[38;5;241m.\u001b[39mto_datetime(df[\u001b[38;5;124m'\u001b[39m\u001b[38;5;124mFecha_Hora_Retiro\u001b[39m\u001b[38;5;124m'\u001b[39m])\n\u001b[1;32m----> 2\u001b[0m df[\u001b[38;5;124m'\u001b[39m\u001b[38;5;124mFecha_Hora_Arribo\u001b[39m\u001b[38;5;124m'\u001b[39m] \u001b[38;5;241m=\u001b[39m pd\u001b[38;5;241m.\u001b[39mto_datetime(df[\u001b[38;5;124m'\u001b[39m\u001b[38;5;124mFecha_Hora_Arribo\u001b[39m\u001b[38;5;124m'\u001b[39m])\n",
      "File \u001b[1;32m~\\anaconda3\\Lib\\site-packages\\pandas\\core\\tools\\datetimes.py:1050\u001b[0m, in \u001b[0;36mto_datetime\u001b[1;34m(arg, errors, dayfirst, yearfirst, utc, format, exact, unit, infer_datetime_format, origin, cache)\u001b[0m\n\u001b[0;32m   1048\u001b[0m         result \u001b[38;5;241m=\u001b[39m arg\u001b[38;5;241m.\u001b[39mmap(cache_array)\n\u001b[0;32m   1049\u001b[0m     \u001b[38;5;28;01melse\u001b[39;00m:\n\u001b[1;32m-> 1050\u001b[0m         values \u001b[38;5;241m=\u001b[39m convert_listlike(arg\u001b[38;5;241m.\u001b[39m_values, \u001b[38;5;28mformat\u001b[39m)\n\u001b[0;32m   1051\u001b[0m         result \u001b[38;5;241m=\u001b[39m arg\u001b[38;5;241m.\u001b[39m_constructor(values, index\u001b[38;5;241m=\u001b[39marg\u001b[38;5;241m.\u001b[39mindex, name\u001b[38;5;241m=\u001b[39marg\u001b[38;5;241m.\u001b[39mname)\n\u001b[0;32m   1052\u001b[0m \u001b[38;5;28;01melif\u001b[39;00m \u001b[38;5;28misinstance\u001b[39m(arg, (ABCDataFrame, abc\u001b[38;5;241m.\u001b[39mMutableMapping)):\n",
      "File \u001b[1;32m~\\anaconda3\\Lib\\site-packages\\pandas\\core\\tools\\datetimes.py:453\u001b[0m, in \u001b[0;36m_convert_listlike_datetimes\u001b[1;34m(arg, format, name, utc, unit, errors, dayfirst, yearfirst, exact)\u001b[0m\n\u001b[0;32m    451\u001b[0m \u001b[38;5;66;03m# `format` could be inferred, or user didn't ask for mixed-format parsing.\u001b[39;00m\n\u001b[0;32m    452\u001b[0m \u001b[38;5;28;01mif\u001b[39;00m \u001b[38;5;28mformat\u001b[39m \u001b[38;5;129;01mis\u001b[39;00m \u001b[38;5;129;01mnot\u001b[39;00m \u001b[38;5;28;01mNone\u001b[39;00m \u001b[38;5;129;01mand\u001b[39;00m \u001b[38;5;28mformat\u001b[39m \u001b[38;5;241m!=\u001b[39m \u001b[38;5;124m\"\u001b[39m\u001b[38;5;124mmixed\u001b[39m\u001b[38;5;124m\"\u001b[39m:\n\u001b[1;32m--> 453\u001b[0m     \u001b[38;5;28;01mreturn\u001b[39;00m _array_strptime_with_fallback(arg, name, utc, \u001b[38;5;28mformat\u001b[39m, exact, errors)\n\u001b[0;32m    455\u001b[0m result, tz_parsed \u001b[38;5;241m=\u001b[39m objects_to_datetime64ns(\n\u001b[0;32m    456\u001b[0m     arg,\n\u001b[0;32m    457\u001b[0m     dayfirst\u001b[38;5;241m=\u001b[39mdayfirst,\n\u001b[1;32m   (...)\u001b[0m\n\u001b[0;32m    461\u001b[0m     allow_object\u001b[38;5;241m=\u001b[39m\u001b[38;5;28;01mTrue\u001b[39;00m,\n\u001b[0;32m    462\u001b[0m )\n\u001b[0;32m    464\u001b[0m \u001b[38;5;28;01mif\u001b[39;00m tz_parsed \u001b[38;5;129;01mis\u001b[39;00m \u001b[38;5;129;01mnot\u001b[39;00m \u001b[38;5;28;01mNone\u001b[39;00m:\n\u001b[0;32m    465\u001b[0m     \u001b[38;5;66;03m# We can take a shortcut since the datetime64 numpy array\u001b[39;00m\n\u001b[0;32m    466\u001b[0m     \u001b[38;5;66;03m# is in UTC\u001b[39;00m\n",
      "File \u001b[1;32m~\\anaconda3\\Lib\\site-packages\\pandas\\core\\tools\\datetimes.py:484\u001b[0m, in \u001b[0;36m_array_strptime_with_fallback\u001b[1;34m(arg, name, utc, fmt, exact, errors)\u001b[0m\n\u001b[0;32m    473\u001b[0m \u001b[38;5;28;01mdef\u001b[39;00m \u001b[38;5;21m_array_strptime_with_fallback\u001b[39m(\n\u001b[0;32m    474\u001b[0m     arg,\n\u001b[0;32m    475\u001b[0m     name,\n\u001b[1;32m   (...)\u001b[0m\n\u001b[0;32m    479\u001b[0m     errors: \u001b[38;5;28mstr\u001b[39m,\n\u001b[0;32m    480\u001b[0m ) \u001b[38;5;241m-\u001b[39m\u001b[38;5;241m>\u001b[39m Index:\n\u001b[0;32m    481\u001b[0m \u001b[38;5;250m    \u001b[39m\u001b[38;5;124;03m\"\"\"\u001b[39;00m\n\u001b[0;32m    482\u001b[0m \u001b[38;5;124;03m    Call array_strptime, with fallback behavior depending on 'errors'.\u001b[39;00m\n\u001b[0;32m    483\u001b[0m \u001b[38;5;124;03m    \"\"\"\u001b[39;00m\n\u001b[1;32m--> 484\u001b[0m     result, timezones \u001b[38;5;241m=\u001b[39m array_strptime(arg, fmt, exact\u001b[38;5;241m=\u001b[39mexact, errors\u001b[38;5;241m=\u001b[39merrors, utc\u001b[38;5;241m=\u001b[39mutc)\n\u001b[0;32m    485\u001b[0m     \u001b[38;5;28;01mif\u001b[39;00m \u001b[38;5;28many\u001b[39m(tz \u001b[38;5;129;01mis\u001b[39;00m \u001b[38;5;129;01mnot\u001b[39;00m \u001b[38;5;28;01mNone\u001b[39;00m \u001b[38;5;28;01mfor\u001b[39;00m tz \u001b[38;5;129;01min\u001b[39;00m timezones):\n\u001b[0;32m    486\u001b[0m         \u001b[38;5;28;01mreturn\u001b[39;00m _return_parsed_timezone_results(result, timezones, utc, name)\n",
      "File \u001b[1;32m~\\anaconda3\\Lib\\site-packages\\pandas\\_libs\\tslibs\\strptime.pyx:530\u001b[0m, in \u001b[0;36mpandas._libs.tslibs.strptime.array_strptime\u001b[1;34m()\u001b[0m\n",
      "File \u001b[1;32m~\\anaconda3\\Lib\\site-packages\\pandas\\_libs\\tslibs\\strptime.pyx:351\u001b[0m, in \u001b[0;36mpandas._libs.tslibs.strptime.array_strptime\u001b[1;34m()\u001b[0m\n",
      "\u001b[1;31mValueError\u001b[0m: time data \"13/01/2025 00:00:01\" doesn't match format \"%m/%d/%Y %H:%M:%S\", at position 578254. You might want to try:\n    - passing `format` if your strings have a consistent format;\n    - passing `format='ISO8601'` if your strings are all ISO8601 but not necessarily in exactly the same format;\n    - passing `format='mixed'`, and the format will be inferred for each element individually. You might want to use `dayfirst` alongside this."
     ]
    }
   ],
   "source": []
  },
  {
   "cell_type": "code",
   "execution_count": null,
   "id": "da82d1fb",
   "metadata": {},
   "outputs": [],
   "source": [
    "df['duracion'] = df['Fecha_Hora_Arribo'] - df['Fecha_Hora_Retiro']"
   ]
  },
  {
   "cell_type": "code",
   "execution_count": null,
   "id": "b7eee232",
   "metadata": {},
   "outputs": [],
   "source": [
    "#es mas recomendable usar la mediana y no la media\n",
    "df_copy['Edad_Usuario'] = df_copy['Edad_Usuario'].transform(lambda x: x.fillna(x.median())) "
   ]
  },
  {
   "cell_type": "code",
   "execution_count": null,
   "id": "e13eba2f",
   "metadata": {},
   "outputs": [],
   "source": [
    "df_copy = df"
   ]
  },
  {
   "cell_type": "code",
   "execution_count": null,
   "id": "34f49a1c",
   "metadata": {},
   "outputs": [],
   "source": [
    "df_copy.isnull().sum()"
   ]
  },
  {
   "cell_type": "code",
   "execution_count": null,
   "id": "9872bbb7",
   "metadata": {},
   "outputs": [],
   "source": [
    "#alternativa\n",
    "df_genero = pd.get_dummies(df_copy[['Genero_Usuario']])"
   ]
  },
  {
   "cell_type": "code",
   "execution_count": null,
   "id": "071ae0a3",
   "metadata": {},
   "outputs": [],
   "source": [
    "df = pd.get_dummies(df, columns=['Genero_Usuario'], prefix=['Genero_Usuario'])"
   ]
  },
  {
   "cell_type": "code",
   "execution_count": null,
   "id": "64468dfb",
   "metadata": {},
   "outputs": [],
   "source": [
    "df.head()"
   ]
  },
  {
   "cell_type": "code",
   "execution_count": null,
   "id": "af9b0184",
   "metadata": {},
   "outputs": [],
   "source": [
    "dias_con_mas_retiros = df.groupby(df['Fecha_Retiro'].dt.date).size().reset_index(name='Count')"
   ]
  },
  {
   "cell_type": "code",
   "execution_count": null,
   "id": "a1977cef",
   "metadata": {},
   "outputs": [],
   "source": [
    "df.dtypes"
   ]
  },
  {
   "cell_type": "code",
   "execution_count": null,
   "id": "7df42f96",
   "metadata": {},
   "outputs": [],
   "source": [
    "dias_con_mas_retiros"
   ]
  },
  {
   "cell_type": "code",
   "execution_count": null,
   "id": "e839f10a",
   "metadata": {},
   "outputs": [],
   "source": [
    "#label encoding\n",
    "#assings integers (red=1, blue=2, green=3)\n",
    "#crea una importancia no real\n",
    "#mejor one-hot-encoding\n"
   ]
  },
  {
   "cell_type": "code",
   "execution_count": null,
   "id": "a63bab9f",
   "metadata": {},
   "outputs": [],
   "source": []
  },
  {
   "cell_type": "code",
   "execution_count": null,
   "id": "8a4045bc",
   "metadata": {},
   "outputs": [],
   "source": [
    "df.head()"
   ]
  },
  {
   "cell_type": "code",
   "execution_count": 22,
   "id": "cdda383b",
   "metadata": {},
   "outputs": [],
   "source": [
    "df2 = df"
   ]
  },
  {
   "cell_type": "code",
   "execution_count": 23,
   "id": "ed3352f2",
   "metadata": {},
   "outputs": [
    {
     "data": {
      "text/plain": [
       "Genero_Usuario            object\n",
       "Edad_Usuario             float64\n",
       "Bici                       int64\n",
       "Ciclo_Estacion_Retiro     object\n",
       "Fecha_Retiro              object\n",
       "Hora_Retiro               object\n",
       "Ciclo_EstacionArribo      object\n",
       "Fecha_Arribo              object\n",
       "Hora_Arribo               object\n",
       "dtype: object"
      ]
     },
     "execution_count": 23,
     "metadata": {},
     "output_type": "execute_result"
    }
   ],
   "source": [
    "df2.dtypes"
   ]
  },
  {
   "cell_type": "code",
   "execution_count": 24,
   "id": "7e967cd5",
   "metadata": {},
   "outputs": [],
   "source": [
    "df2['Hora_Retiro'] = df2['Hora_Retiro'].astype(str)\n",
    "df2['Hora_Arribo'] = df2['Hora_Arribo'].astype(str)\n",
    "df2['Fecha_Retiro'] = df2['Fecha_Retiro'].astype(str)\n",
    "df2['Fecha_Arribo'] = df2['Fecha_Arribo'].astype(str)"
   ]
  },
  {
   "cell_type": "code",
   "execution_count": 25,
   "id": "c46caf74",
   "metadata": {},
   "outputs": [
    {
     "data": {
      "text/plain": [
       "Genero_Usuario            object\n",
       "Edad_Usuario             float64\n",
       "Bici                       int64\n",
       "Ciclo_Estacion_Retiro     object\n",
       "Fecha_Retiro              object\n",
       "Hora_Retiro               object\n",
       "Ciclo_EstacionArribo      object\n",
       "Fecha_Arribo              object\n",
       "Hora_Arribo               object\n",
       "dtype: object"
      ]
     },
     "execution_count": 25,
     "metadata": {},
     "output_type": "execute_result"
    }
   ],
   "source": [
    "df2.dtypes"
   ]
  },
  {
   "cell_type": "code",
   "execution_count": 26,
   "id": "2cc1f967",
   "metadata": {},
   "outputs": [],
   "source": [
    "df2['Fecha_Hora_Retiro'] =  df2['Fecha_Retiro'] + ' ' + df2['Hora_Retiro']\n",
    "df2['Fecha_Hora_Arribo'] =  df2['Fecha_Arribo'] + ' ' + df2['Hora_Arribo']"
   ]
  },
  {
   "cell_type": "code",
   "execution_count": 27,
   "id": "38519953",
   "metadata": {},
   "outputs": [
    {
     "data": {
      "text/html": [
       "<div>\n",
       "<style scoped>\n",
       "    .dataframe tbody tr th:only-of-type {\n",
       "        vertical-align: middle;\n",
       "    }\n",
       "\n",
       "    .dataframe tbody tr th {\n",
       "        vertical-align: top;\n",
       "    }\n",
       "\n",
       "    .dataframe thead th {\n",
       "        text-align: right;\n",
       "    }\n",
       "</style>\n",
       "<table border=\"1\" class=\"dataframe\">\n",
       "  <thead>\n",
       "    <tr style=\"text-align: right;\">\n",
       "      <th></th>\n",
       "      <th>Genero_Usuario</th>\n",
       "      <th>Edad_Usuario</th>\n",
       "      <th>Bici</th>\n",
       "      <th>Ciclo_Estacion_Retiro</th>\n",
       "      <th>Fecha_Retiro</th>\n",
       "      <th>Hora_Retiro</th>\n",
       "      <th>Ciclo_EstacionArribo</th>\n",
       "      <th>Fecha_Arribo</th>\n",
       "      <th>Hora_Arribo</th>\n",
       "      <th>Fecha_Hora_Retiro</th>\n",
       "      <th>Fecha_Hora_Arribo</th>\n",
       "    </tr>\n",
       "  </thead>\n",
       "  <tbody>\n",
       "    <tr>\n",
       "      <th>0</th>\n",
       "      <td>M</td>\n",
       "      <td>26.0</td>\n",
       "      <td>5180930</td>\n",
       "      <td>568</td>\n",
       "      <td>31/12/2024</td>\n",
       "      <td>23:57:02</td>\n",
       "      <td>572</td>\n",
       "      <td>01/01/2025</td>\n",
       "      <td>00:00:03</td>\n",
       "      <td>31/12/2024 23:57:02</td>\n",
       "      <td>01/01/2025 00:00:03</td>\n",
       "    </tr>\n",
       "    <tr>\n",
       "      <th>1</th>\n",
       "      <td>F</td>\n",
       "      <td>54.0</td>\n",
       "      <td>3653953</td>\n",
       "      <td>283</td>\n",
       "      <td>31/12/2024</td>\n",
       "      <td>23:51:40</td>\n",
       "      <td>596</td>\n",
       "      <td>01/01/2025</td>\n",
       "      <td>00:00:41</td>\n",
       "      <td>31/12/2024 23:51:40</td>\n",
       "      <td>01/01/2025 00:00:41</td>\n",
       "    </tr>\n",
       "    <tr>\n",
       "      <th>2</th>\n",
       "      <td>M</td>\n",
       "      <td>38.0</td>\n",
       "      <td>7511322</td>\n",
       "      <td>034</td>\n",
       "      <td>31/12/2024</td>\n",
       "      <td>23:48:36</td>\n",
       "      <td>064</td>\n",
       "      <td>01/01/2025</td>\n",
       "      <td>00:00:59</td>\n",
       "      <td>31/12/2024 23:48:36</td>\n",
       "      <td>01/01/2025 00:00:59</td>\n",
       "    </tr>\n",
       "    <tr>\n",
       "      <th>3</th>\n",
       "      <td>M</td>\n",
       "      <td>41.0</td>\n",
       "      <td>3804572</td>\n",
       "      <td>258</td>\n",
       "      <td>31/12/2024</td>\n",
       "      <td>23:54:11</td>\n",
       "      <td>023</td>\n",
       "      <td>01/01/2025</td>\n",
       "      <td>00:01:08</td>\n",
       "      <td>31/12/2024 23:54:11</td>\n",
       "      <td>01/01/2025 00:01:08</td>\n",
       "    </tr>\n",
       "    <tr>\n",
       "      <th>4</th>\n",
       "      <td>M</td>\n",
       "      <td>35.0</td>\n",
       "      <td>3848405</td>\n",
       "      <td>043</td>\n",
       "      <td>31/12/2024</td>\n",
       "      <td>23:35:28</td>\n",
       "      <td>126</td>\n",
       "      <td>01/01/2025</td>\n",
       "      <td>00:01:17</td>\n",
       "      <td>31/12/2024 23:35:28</td>\n",
       "      <td>01/01/2025 00:01:17</td>\n",
       "    </tr>\n",
       "  </tbody>\n",
       "</table>\n",
       "</div>"
      ],
      "text/plain": [
       "  Genero_Usuario  Edad_Usuario     Bici Ciclo_Estacion_Retiro Fecha_Retiro  \\\n",
       "0              M          26.0  5180930                   568   31/12/2024   \n",
       "1              F          54.0  3653953                   283   31/12/2024   \n",
       "2              M          38.0  7511322                   034   31/12/2024   \n",
       "3              M          41.0  3804572                   258   31/12/2024   \n",
       "4              M          35.0  3848405                   043   31/12/2024   \n",
       "\n",
       "  Hora_Retiro Ciclo_EstacionArribo Fecha_Arribo Hora_Arribo  \\\n",
       "0    23:57:02                  572   01/01/2025    00:00:03   \n",
       "1    23:51:40                  596   01/01/2025    00:00:41   \n",
       "2    23:48:36                  064   01/01/2025    00:00:59   \n",
       "3    23:54:11                  023   01/01/2025    00:01:08   \n",
       "4    23:35:28                  126   01/01/2025    00:01:17   \n",
       "\n",
       "     Fecha_Hora_Retiro    Fecha_Hora_Arribo  \n",
       "0  31/12/2024 23:57:02  01/01/2025 00:00:03  \n",
       "1  31/12/2024 23:51:40  01/01/2025 00:00:41  \n",
       "2  31/12/2024 23:48:36  01/01/2025 00:00:59  \n",
       "3  31/12/2024 23:54:11  01/01/2025 00:01:08  \n",
       "4  31/12/2024 23:35:28  01/01/2025 00:01:17  "
      ]
     },
     "execution_count": 27,
     "metadata": {},
     "output_type": "execute_result"
    }
   ],
   "source": [
    "df2.head()"
   ]
  },
  {
   "cell_type": "code",
   "execution_count": 32,
   "id": "e8d08e20",
   "metadata": {},
   "outputs": [],
   "source": [
    "df['Fecha_Hora_Retiro'] = pd.to_datetime(df['Fecha_Hora_Retiro'],dayfirst=True)\n",
    "df['Fecha_Hora_Arribo'] = pd.to_datetime(df['Fecha_Hora_Arribo'],dayfirst=True)"
   ]
  },
  {
   "cell_type": "code",
   "execution_count": 33,
   "id": "843042ba",
   "metadata": {},
   "outputs": [
    {
     "data": {
      "text/plain": [
       "Genero_Usuario                   object\n",
       "Edad_Usuario                    float64\n",
       "Bici                              int64\n",
       "Ciclo_Estacion_Retiro            object\n",
       "Fecha_Retiro                     object\n",
       "Hora_Retiro                      object\n",
       "Ciclo_EstacionArribo             object\n",
       "Fecha_Arribo                     object\n",
       "Hora_Arribo                      object\n",
       "Fecha_Hora_Retiro        datetime64[ns]\n",
       "Fecha_Hora_Arribo        datetime64[ns]\n",
       "dtype: object"
      ]
     },
     "execution_count": 33,
     "metadata": {},
     "output_type": "execute_result"
    }
   ],
   "source": [
    "df2.dtypes"
   ]
  },
  {
   "cell_type": "code",
   "execution_count": 34,
   "id": "5e37d3de",
   "metadata": {},
   "outputs": [
    {
     "data": {
      "text/html": [
       "<div>\n",
       "<style scoped>\n",
       "    .dataframe tbody tr th:only-of-type {\n",
       "        vertical-align: middle;\n",
       "    }\n",
       "\n",
       "    .dataframe tbody tr th {\n",
       "        vertical-align: top;\n",
       "    }\n",
       "\n",
       "    .dataframe thead th {\n",
       "        text-align: right;\n",
       "    }\n",
       "</style>\n",
       "<table border=\"1\" class=\"dataframe\">\n",
       "  <thead>\n",
       "    <tr style=\"text-align: right;\">\n",
       "      <th></th>\n",
       "      <th>Genero_Usuario</th>\n",
       "      <th>Edad_Usuario</th>\n",
       "      <th>Bici</th>\n",
       "      <th>Ciclo_Estacion_Retiro</th>\n",
       "      <th>Fecha_Retiro</th>\n",
       "      <th>Hora_Retiro</th>\n",
       "      <th>Ciclo_EstacionArribo</th>\n",
       "      <th>Fecha_Arribo</th>\n",
       "      <th>Hora_Arribo</th>\n",
       "      <th>Fecha_Hora_Retiro</th>\n",
       "      <th>Fecha_Hora_Arribo</th>\n",
       "    </tr>\n",
       "  </thead>\n",
       "  <tbody>\n",
       "    <tr>\n",
       "      <th>0</th>\n",
       "      <td>M</td>\n",
       "      <td>26.0</td>\n",
       "      <td>5180930</td>\n",
       "      <td>568</td>\n",
       "      <td>31/12/2024</td>\n",
       "      <td>23:57:02</td>\n",
       "      <td>572</td>\n",
       "      <td>01/01/2025</td>\n",
       "      <td>00:00:03</td>\n",
       "      <td>2024-12-31 23:57:02</td>\n",
       "      <td>2025-01-01 00:00:03</td>\n",
       "    </tr>\n",
       "    <tr>\n",
       "      <th>1</th>\n",
       "      <td>F</td>\n",
       "      <td>54.0</td>\n",
       "      <td>3653953</td>\n",
       "      <td>283</td>\n",
       "      <td>31/12/2024</td>\n",
       "      <td>23:51:40</td>\n",
       "      <td>596</td>\n",
       "      <td>01/01/2025</td>\n",
       "      <td>00:00:41</td>\n",
       "      <td>2024-12-31 23:51:40</td>\n",
       "      <td>2025-01-01 00:00:41</td>\n",
       "    </tr>\n",
       "    <tr>\n",
       "      <th>2</th>\n",
       "      <td>M</td>\n",
       "      <td>38.0</td>\n",
       "      <td>7511322</td>\n",
       "      <td>034</td>\n",
       "      <td>31/12/2024</td>\n",
       "      <td>23:48:36</td>\n",
       "      <td>064</td>\n",
       "      <td>01/01/2025</td>\n",
       "      <td>00:00:59</td>\n",
       "      <td>2024-12-31 23:48:36</td>\n",
       "      <td>2025-01-01 00:00:59</td>\n",
       "    </tr>\n",
       "    <tr>\n",
       "      <th>3</th>\n",
       "      <td>M</td>\n",
       "      <td>41.0</td>\n",
       "      <td>3804572</td>\n",
       "      <td>258</td>\n",
       "      <td>31/12/2024</td>\n",
       "      <td>23:54:11</td>\n",
       "      <td>023</td>\n",
       "      <td>01/01/2025</td>\n",
       "      <td>00:01:08</td>\n",
       "      <td>2024-12-31 23:54:11</td>\n",
       "      <td>2025-01-01 00:01:08</td>\n",
       "    </tr>\n",
       "    <tr>\n",
       "      <th>4</th>\n",
       "      <td>M</td>\n",
       "      <td>35.0</td>\n",
       "      <td>3848405</td>\n",
       "      <td>043</td>\n",
       "      <td>31/12/2024</td>\n",
       "      <td>23:35:28</td>\n",
       "      <td>126</td>\n",
       "      <td>01/01/2025</td>\n",
       "      <td>00:01:17</td>\n",
       "      <td>2024-12-31 23:35:28</td>\n",
       "      <td>2025-01-01 00:01:17</td>\n",
       "    </tr>\n",
       "  </tbody>\n",
       "</table>\n",
       "</div>"
      ],
      "text/plain": [
       "  Genero_Usuario  Edad_Usuario     Bici Ciclo_Estacion_Retiro Fecha_Retiro  \\\n",
       "0              M          26.0  5180930                   568   31/12/2024   \n",
       "1              F          54.0  3653953                   283   31/12/2024   \n",
       "2              M          38.0  7511322                   034   31/12/2024   \n",
       "3              M          41.0  3804572                   258   31/12/2024   \n",
       "4              M          35.0  3848405                   043   31/12/2024   \n",
       "\n",
       "  Hora_Retiro Ciclo_EstacionArribo Fecha_Arribo Hora_Arribo  \\\n",
       "0    23:57:02                  572   01/01/2025    00:00:03   \n",
       "1    23:51:40                  596   01/01/2025    00:00:41   \n",
       "2    23:48:36                  064   01/01/2025    00:00:59   \n",
       "3    23:54:11                  023   01/01/2025    00:01:08   \n",
       "4    23:35:28                  126   01/01/2025    00:01:17   \n",
       "\n",
       "    Fecha_Hora_Retiro   Fecha_Hora_Arribo  \n",
       "0 2024-12-31 23:57:02 2025-01-01 00:00:03  \n",
       "1 2024-12-31 23:51:40 2025-01-01 00:00:41  \n",
       "2 2024-12-31 23:48:36 2025-01-01 00:00:59  \n",
       "3 2024-12-31 23:54:11 2025-01-01 00:01:08  \n",
       "4 2024-12-31 23:35:28 2025-01-01 00:01:17  "
      ]
     },
     "execution_count": 34,
     "metadata": {},
     "output_type": "execute_result"
    }
   ],
   "source": [
    "df.head()"
   ]
  },
  {
   "cell_type": "code",
   "execution_count": 35,
   "id": "70e9fe81",
   "metadata": {},
   "outputs": [],
   "source": [
    "df2['duracion'] = df2['Fecha_Hora_Arribo'] - df2['Fecha_Hora_Retiro']"
   ]
  },
  {
   "cell_type": "code",
   "execution_count": 36,
   "id": "eb688081",
   "metadata": {},
   "outputs": [
    {
     "data": {
      "text/html": [
       "<div>\n",
       "<style scoped>\n",
       "    .dataframe tbody tr th:only-of-type {\n",
       "        vertical-align: middle;\n",
       "    }\n",
       "\n",
       "    .dataframe tbody tr th {\n",
       "        vertical-align: top;\n",
       "    }\n",
       "\n",
       "    .dataframe thead th {\n",
       "        text-align: right;\n",
       "    }\n",
       "</style>\n",
       "<table border=\"1\" class=\"dataframe\">\n",
       "  <thead>\n",
       "    <tr style=\"text-align: right;\">\n",
       "      <th></th>\n",
       "      <th>Genero_Usuario</th>\n",
       "      <th>Edad_Usuario</th>\n",
       "      <th>Bici</th>\n",
       "      <th>Ciclo_Estacion_Retiro</th>\n",
       "      <th>Fecha_Retiro</th>\n",
       "      <th>Hora_Retiro</th>\n",
       "      <th>Ciclo_EstacionArribo</th>\n",
       "      <th>Fecha_Arribo</th>\n",
       "      <th>Hora_Arribo</th>\n",
       "      <th>Fecha_Hora_Retiro</th>\n",
       "      <th>Fecha_Hora_Arribo</th>\n",
       "      <th>duracion</th>\n",
       "    </tr>\n",
       "  </thead>\n",
       "  <tbody>\n",
       "    <tr>\n",
       "      <th>0</th>\n",
       "      <td>M</td>\n",
       "      <td>26.0</td>\n",
       "      <td>5180930</td>\n",
       "      <td>568</td>\n",
       "      <td>31/12/2024</td>\n",
       "      <td>23:57:02</td>\n",
       "      <td>572</td>\n",
       "      <td>01/01/2025</td>\n",
       "      <td>00:00:03</td>\n",
       "      <td>2024-12-31 23:57:02</td>\n",
       "      <td>2025-01-01 00:00:03</td>\n",
       "      <td>0 days 00:03:01</td>\n",
       "    </tr>\n",
       "    <tr>\n",
       "      <th>1</th>\n",
       "      <td>F</td>\n",
       "      <td>54.0</td>\n",
       "      <td>3653953</td>\n",
       "      <td>283</td>\n",
       "      <td>31/12/2024</td>\n",
       "      <td>23:51:40</td>\n",
       "      <td>596</td>\n",
       "      <td>01/01/2025</td>\n",
       "      <td>00:00:41</td>\n",
       "      <td>2024-12-31 23:51:40</td>\n",
       "      <td>2025-01-01 00:00:41</td>\n",
       "      <td>0 days 00:09:01</td>\n",
       "    </tr>\n",
       "    <tr>\n",
       "      <th>2</th>\n",
       "      <td>M</td>\n",
       "      <td>38.0</td>\n",
       "      <td>7511322</td>\n",
       "      <td>034</td>\n",
       "      <td>31/12/2024</td>\n",
       "      <td>23:48:36</td>\n",
       "      <td>064</td>\n",
       "      <td>01/01/2025</td>\n",
       "      <td>00:00:59</td>\n",
       "      <td>2024-12-31 23:48:36</td>\n",
       "      <td>2025-01-01 00:00:59</td>\n",
       "      <td>0 days 00:12:23</td>\n",
       "    </tr>\n",
       "    <tr>\n",
       "      <th>3</th>\n",
       "      <td>M</td>\n",
       "      <td>41.0</td>\n",
       "      <td>3804572</td>\n",
       "      <td>258</td>\n",
       "      <td>31/12/2024</td>\n",
       "      <td>23:54:11</td>\n",
       "      <td>023</td>\n",
       "      <td>01/01/2025</td>\n",
       "      <td>00:01:08</td>\n",
       "      <td>2024-12-31 23:54:11</td>\n",
       "      <td>2025-01-01 00:01:08</td>\n",
       "      <td>0 days 00:06:57</td>\n",
       "    </tr>\n",
       "    <tr>\n",
       "      <th>4</th>\n",
       "      <td>M</td>\n",
       "      <td>35.0</td>\n",
       "      <td>3848405</td>\n",
       "      <td>043</td>\n",
       "      <td>31/12/2024</td>\n",
       "      <td>23:35:28</td>\n",
       "      <td>126</td>\n",
       "      <td>01/01/2025</td>\n",
       "      <td>00:01:17</td>\n",
       "      <td>2024-12-31 23:35:28</td>\n",
       "      <td>2025-01-01 00:01:17</td>\n",
       "      <td>0 days 00:25:49</td>\n",
       "    </tr>\n",
       "    <tr>\n",
       "      <th>...</th>\n",
       "      <td>...</td>\n",
       "      <td>...</td>\n",
       "      <td>...</td>\n",
       "      <td>...</td>\n",
       "      <td>...</td>\n",
       "      <td>...</td>\n",
       "      <td>...</td>\n",
       "      <td>...</td>\n",
       "      <td>...</td>\n",
       "      <td>...</td>\n",
       "      <td>...</td>\n",
       "      <td>...</td>\n",
       "    </tr>\n",
       "    <tr>\n",
       "      <th>1809770</th>\n",
       "      <td>F</td>\n",
       "      <td>31.0</td>\n",
       "      <td>5553995</td>\n",
       "      <td>056</td>\n",
       "      <td>31/01/2025</td>\n",
       "      <td>23:49:11</td>\n",
       "      <td>123</td>\n",
       "      <td>31/01/2025</td>\n",
       "      <td>23:59:35</td>\n",
       "      <td>2025-01-31 23:49:11</td>\n",
       "      <td>2025-01-31 23:59:35</td>\n",
       "      <td>0 days 00:10:24</td>\n",
       "    </tr>\n",
       "    <tr>\n",
       "      <th>1809771</th>\n",
       "      <td>M</td>\n",
       "      <td>25.0</td>\n",
       "      <td>4755062</td>\n",
       "      <td>277</td>\n",
       "      <td>31/01/2025</td>\n",
       "      <td>23:48:50</td>\n",
       "      <td>181</td>\n",
       "      <td>31/01/2025</td>\n",
       "      <td>23:59:45</td>\n",
       "      <td>2025-01-31 23:48:50</td>\n",
       "      <td>2025-01-31 23:59:45</td>\n",
       "      <td>0 days 00:10:55</td>\n",
       "    </tr>\n",
       "    <tr>\n",
       "      <th>1809772</th>\n",
       "      <td>M</td>\n",
       "      <td>46.0</td>\n",
       "      <td>8342438</td>\n",
       "      <td>396</td>\n",
       "      <td>31/01/2025</td>\n",
       "      <td>23:38:01</td>\n",
       "      <td>604</td>\n",
       "      <td>31/01/2025</td>\n",
       "      <td>23:59:47</td>\n",
       "      <td>2025-01-31 23:38:01</td>\n",
       "      <td>2025-01-31 23:59:47</td>\n",
       "      <td>0 days 00:21:46</td>\n",
       "    </tr>\n",
       "    <tr>\n",
       "      <th>1809773</th>\n",
       "      <td>F</td>\n",
       "      <td>30.0</td>\n",
       "      <td>4259339</td>\n",
       "      <td>310</td>\n",
       "      <td>31/01/2025</td>\n",
       "      <td>23:45:32</td>\n",
       "      <td>084</td>\n",
       "      <td>31/01/2025</td>\n",
       "      <td>23:59:49</td>\n",
       "      <td>2025-01-31 23:45:32</td>\n",
       "      <td>2025-01-31 23:59:49</td>\n",
       "      <td>0 days 00:14:17</td>\n",
       "    </tr>\n",
       "    <tr>\n",
       "      <th>1809774</th>\n",
       "      <td>F</td>\n",
       "      <td>48.0</td>\n",
       "      <td>6513600</td>\n",
       "      <td>049</td>\n",
       "      <td>31/01/2025</td>\n",
       "      <td>23:49:56</td>\n",
       "      <td>025</td>\n",
       "      <td>31/01/2025</td>\n",
       "      <td>23:59:57</td>\n",
       "      <td>2025-01-31 23:49:56</td>\n",
       "      <td>2025-01-31 23:59:57</td>\n",
       "      <td>0 days 00:10:01</td>\n",
       "    </tr>\n",
       "  </tbody>\n",
       "</table>\n",
       "<p>1809775 rows × 12 columns</p>\n",
       "</div>"
      ],
      "text/plain": [
       "        Genero_Usuario  Edad_Usuario     Bici Ciclo_Estacion_Retiro  \\\n",
       "0                    M          26.0  5180930                   568   \n",
       "1                    F          54.0  3653953                   283   \n",
       "2                    M          38.0  7511322                   034   \n",
       "3                    M          41.0  3804572                   258   \n",
       "4                    M          35.0  3848405                   043   \n",
       "...                ...           ...      ...                   ...   \n",
       "1809770              F          31.0  5553995                   056   \n",
       "1809771              M          25.0  4755062                   277   \n",
       "1809772              M          46.0  8342438                   396   \n",
       "1809773              F          30.0  4259339                   310   \n",
       "1809774              F          48.0  6513600                   049   \n",
       "\n",
       "        Fecha_Retiro Hora_Retiro Ciclo_EstacionArribo Fecha_Arribo  \\\n",
       "0         31/12/2024    23:57:02                  572   01/01/2025   \n",
       "1         31/12/2024    23:51:40                  596   01/01/2025   \n",
       "2         31/12/2024    23:48:36                  064   01/01/2025   \n",
       "3         31/12/2024    23:54:11                  023   01/01/2025   \n",
       "4         31/12/2024    23:35:28                  126   01/01/2025   \n",
       "...              ...         ...                  ...          ...   \n",
       "1809770   31/01/2025    23:49:11                  123   31/01/2025   \n",
       "1809771   31/01/2025    23:48:50                  181   31/01/2025   \n",
       "1809772   31/01/2025    23:38:01                  604   31/01/2025   \n",
       "1809773   31/01/2025    23:45:32                  084   31/01/2025   \n",
       "1809774   31/01/2025    23:49:56                  025   31/01/2025   \n",
       "\n",
       "        Hora_Arribo   Fecha_Hora_Retiro   Fecha_Hora_Arribo        duracion  \n",
       "0          00:00:03 2024-12-31 23:57:02 2025-01-01 00:00:03 0 days 00:03:01  \n",
       "1          00:00:41 2024-12-31 23:51:40 2025-01-01 00:00:41 0 days 00:09:01  \n",
       "2          00:00:59 2024-12-31 23:48:36 2025-01-01 00:00:59 0 days 00:12:23  \n",
       "3          00:01:08 2024-12-31 23:54:11 2025-01-01 00:01:08 0 days 00:06:57  \n",
       "4          00:01:17 2024-12-31 23:35:28 2025-01-01 00:01:17 0 days 00:25:49  \n",
       "...             ...                 ...                 ...             ...  \n",
       "1809770    23:59:35 2025-01-31 23:49:11 2025-01-31 23:59:35 0 days 00:10:24  \n",
       "1809771    23:59:45 2025-01-31 23:48:50 2025-01-31 23:59:45 0 days 00:10:55  \n",
       "1809772    23:59:47 2025-01-31 23:38:01 2025-01-31 23:59:47 0 days 00:21:46  \n",
       "1809773    23:59:49 2025-01-31 23:45:32 2025-01-31 23:59:49 0 days 00:14:17  \n",
       "1809774    23:59:57 2025-01-31 23:49:56 2025-01-31 23:59:57 0 days 00:10:01  \n",
       "\n",
       "[1809775 rows x 12 columns]"
      ]
     },
     "execution_count": 36,
     "metadata": {},
     "output_type": "execute_result"
    }
   ],
   "source": [
    "df2"
   ]
  },
  {
   "cell_type": "code",
   "execution_count": 37,
   "id": "042e8476",
   "metadata": {},
   "outputs": [],
   "source": [
    "#Crear categoria  \"Viaje corto, entre semana o fin de semana\""
   ]
  },
  {
   "cell_type": "code",
   "execution_count": null,
   "id": "93a8bf8a",
   "metadata": {},
   "outputs": [],
   "source": []
  }
 ],
 "metadata": {
  "kernelspec": {
   "display_name": "Python 3 (ipykernel)",
   "language": "python",
   "name": "python3"
  },
  "language_info": {
   "codemirror_mode": {
    "name": "ipython",
    "version": 3
   },
   "file_extension": ".py",
   "mimetype": "text/x-python",
   "name": "python",
   "nbconvert_exporter": "python",
   "pygments_lexer": "ipython3",
   "version": "3.11.5"
  }
 },
 "nbformat": 4,
 "nbformat_minor": 5
}
