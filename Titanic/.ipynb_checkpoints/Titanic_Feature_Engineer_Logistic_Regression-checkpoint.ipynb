{
 "cells": [
  {
   "cell_type": "code",
   "execution_count": 1,
   "metadata": {
    "_cell_guid": "b1076dfc-b9ad-4769-8c92-a6c4dae69d19",
    "_uuid": "8f2839f25d086af736a60e9eeb907d3b93b6e0e5",
    "execution": {
     "iopub.execute_input": "2025-08-18T18:13:07.941702Z",
     "iopub.status.busy": "2025-08-18T18:13:07.941359Z",
     "iopub.status.idle": "2025-08-18T18:13:10.667665Z",
     "shell.execute_reply": "2025-08-18T18:13:10.666440Z",
     "shell.execute_reply.started": "2025-08-18T18:13:07.941662Z"
    }
   },
   "outputs": [],
   "source": [
    "# This Python 3 environment comes with many helpful analytics libraries installed\n",
    "# It is defined by the kaggle/python Docker image: https://github.com/kaggle/docker-python\n",
    "# For example, here's several helpful packages to load\n",
    "\n",
    "import numpy as np # linear algebra\n",
    "import pandas as pd # data processing, CSV file I/O (e.g. pd.read_csv)\n",
    "\n",
    "# Input data files are available in the read-only \"../input/\" directory\n",
    "# For example, running this (by clicking run or pressing Shift+Enter) will list all files under the input directory\n",
    "\n",
    "import os\n",
    "for dirname, _, filenames in os.walk('/kaggle/input'):\n",
    "    for filename in filenames:\n",
    "        print(os.path.join(dirname, filename))\n",
    "\n",
    "# You can write up to 20GB to the current directory (/kaggle/working/) that gets preserved as output when you create a version using \"Save & Run All\" \n",
    "# You can also write temporary files to /kaggle/temp/, but they won't be saved outside of the current session"
   ]
  },
  {
   "cell_type": "code",
   "execution_count": 2,
   "metadata": {
    "execution": {
     "iopub.execute_input": "2025-08-18T19:23:18.152181Z",
     "iopub.status.busy": "2025-08-18T19:23:18.151797Z",
     "iopub.status.idle": "2025-08-18T19:23:18.157717Z",
     "shell.execute_reply": "2025-08-18T19:23:18.156282Z",
     "shell.execute_reply.started": "2025-08-18T19:23:18.152155Z"
    }
   },
   "outputs": [],
   "source": [
    "import pandas as pd \n",
    "import matplotlib.pyplot as plt\n",
    "import numpy as np"
   ]
  },
  {
   "cell_type": "markdown",
   "metadata": {},
   "source": [
    "Helpers\n"
   ]
  },
  {
   "cell_type": "markdown",
   "metadata": {},
   "source": [
    "1.Funcion Prioridad<br>\n",
    "2.Funcion que ayuda a extrar las edades faltantes en base a los titulos de la persona<br>\n",
    "3. Función de Extracción de Deck/Cubierta<br>\n",
    "4. Función de Puerto de Embarque Inteligente<br>\n",
    "5. Cabina<br>"
   ]
  },
  {
   "cell_type": "code",
   "execution_count": 3,
   "metadata": {
    "execution": {
     "iopub.execute_input": "2025-08-18T18:15:08.231705Z",
     "iopub.status.busy": "2025-08-18T18:15:08.231177Z",
     "iopub.status.idle": "2025-08-18T18:15:08.240574Z",
     "shell.execute_reply": "2025-08-18T18:15:08.239278Z",
     "shell.execute_reply.started": "2025-08-18T18:15:08.231669Z"
    }
   },
   "outputs": [],
   "source": [
    "#Función que crea prioridad según la edad, el sexo y la clase de la persona\n",
    "def priorityFunction(row):\n",
    "    if row['Age']<=5: #Niños pequeños primera clase\n",
    "        return 1\n",
    "    elif row['Age']>5 and row['Age'] <=15: #niños/adol primera clase\n",
    "        return 2\n",
    "    elif row['Sex'] == 'female' and row['Pclass'] <= 2: #Mujeres primera clase\n",
    "        return 3\n",
    "    elif row['Sex'] == 'female' and row['Pclass'] > 2: #Mujeres 3era clase\n",
    "        return 4\n",
    "    elif row['Sex'] == 'male' and row['Age'] > 15: #Hombres\n",
    "        return 5\n",
    "    elif row['Sex'] == 'male': #Hombres\n",
    "        return 5"
   ]
  },
  {
   "cell_type": "code",
   "execution_count": 38,
   "metadata": {
    "execution": {
     "iopub.execute_input": "2025-08-18T18:21:01.102835Z",
     "iopub.status.busy": "2025-08-18T18:21:01.102538Z",
     "iopub.status.idle": "2025-08-18T18:21:01.110493Z",
     "shell.execute_reply": "2025-08-18T18:21:01.108772Z",
     "shell.execute_reply.started": "2025-08-18T18:21:01.102816Z"
    }
   },
   "outputs": [],
   "source": [
    "def Get_Title(Name):\n",
    "    military = ['Capt','Col','Major']\n",
    "    nobility = ['Sir','Lady','Countess','Don','Dona','Jonkheer','Lord','Baron','Duke','Earl']\n",
    "    military_nobility = military + nobility\n",
    "    if 'Master' in Name:\n",
    "        return 1\n",
    "    elif 'Miss' in Name or 'Mrs' in Name:\n",
    "        return 2\n",
    "    elif 'Mr' in Name:\n",
    "        return 3\n",
    "    elif 'Dr' in Name or 'Rev' in Name:\n",
    "        return 4\n",
    "    elif any(title in Name for title in military_nobility):\n",
    "        return 5\n",
    "    else: return 6"
   ]
  },
  {
   "cell_type": "code",
   "execution_count": 131,
   "metadata": {
    "execution": {
     "iopub.execute_input": "2025-08-18T19:23:24.519310Z",
     "iopub.status.busy": "2025-08-18T19:23:24.518957Z",
     "iopub.status.idle": "2025-08-18T19:23:24.541792Z",
     "shell.execute_reply": "2025-08-18T19:23:24.540881Z",
     "shell.execute_reply.started": "2025-08-18T19:23:24.519284Z"
    }
   },
   "outputs": [],
   "source": [
    "df = pd.read_csv(\"/kaggle/input/titanic/train.csv\")"
   ]
  },
  {
   "cell_type": "code",
   "execution_count": 132,
   "metadata": {
    "execution": {
     "iopub.execute_input": "2025-08-18T19:23:25.910096Z",
     "iopub.status.busy": "2025-08-18T19:23:25.909799Z",
     "iopub.status.idle": "2025-08-18T19:23:25.926697Z",
     "shell.execute_reply": "2025-08-18T19:23:25.925373Z",
     "shell.execute_reply.started": "2025-08-18T19:23:25.910075Z"
    }
   },
   "outputs": [
    {
     "data": {
      "text/html": [
       "<div>\n",
       "<style scoped>\n",
       "    .dataframe tbody tr th:only-of-type {\n",
       "        vertical-align: middle;\n",
       "    }\n",
       "\n",
       "    .dataframe tbody tr th {\n",
       "        vertical-align: top;\n",
       "    }\n",
       "\n",
       "    .dataframe thead th {\n",
       "        text-align: right;\n",
       "    }\n",
       "</style>\n",
       "<table border=\"1\" class=\"dataframe\">\n",
       "  <thead>\n",
       "    <tr style=\"text-align: right;\">\n",
       "      <th></th>\n",
       "      <th>PassengerId</th>\n",
       "      <th>Survived</th>\n",
       "      <th>Pclass</th>\n",
       "      <th>Name</th>\n",
       "      <th>Sex</th>\n",
       "      <th>Age</th>\n",
       "      <th>SibSp</th>\n",
       "      <th>Parch</th>\n",
       "      <th>Ticket</th>\n",
       "      <th>Fare</th>\n",
       "      <th>Cabin</th>\n",
       "      <th>Embarked</th>\n",
       "    </tr>\n",
       "  </thead>\n",
       "  <tbody>\n",
       "    <tr>\n",
       "      <th>0</th>\n",
       "      <td>1</td>\n",
       "      <td>0</td>\n",
       "      <td>3</td>\n",
       "      <td>Braund, Mr. Owen Harris</td>\n",
       "      <td>male</td>\n",
       "      <td>22.0</td>\n",
       "      <td>1</td>\n",
       "      <td>0</td>\n",
       "      <td>A/5 21171</td>\n",
       "      <td>7.2500</td>\n",
       "      <td>NaN</td>\n",
       "      <td>S</td>\n",
       "    </tr>\n",
       "    <tr>\n",
       "      <th>1</th>\n",
       "      <td>2</td>\n",
       "      <td>1</td>\n",
       "      <td>1</td>\n",
       "      <td>Cumings, Mrs. John Bradley (Florence Briggs Th...</td>\n",
       "      <td>female</td>\n",
       "      <td>38.0</td>\n",
       "      <td>1</td>\n",
       "      <td>0</td>\n",
       "      <td>PC 17599</td>\n",
       "      <td>71.2833</td>\n",
       "      <td>C85</td>\n",
       "      <td>C</td>\n",
       "    </tr>\n",
       "    <tr>\n",
       "      <th>2</th>\n",
       "      <td>3</td>\n",
       "      <td>1</td>\n",
       "      <td>3</td>\n",
       "      <td>Heikkinen, Miss. Laina</td>\n",
       "      <td>female</td>\n",
       "      <td>26.0</td>\n",
       "      <td>0</td>\n",
       "      <td>0</td>\n",
       "      <td>STON/O2. 3101282</td>\n",
       "      <td>7.9250</td>\n",
       "      <td>NaN</td>\n",
       "      <td>S</td>\n",
       "    </tr>\n",
       "    <tr>\n",
       "      <th>3</th>\n",
       "      <td>4</td>\n",
       "      <td>1</td>\n",
       "      <td>1</td>\n",
       "      <td>Futrelle, Mrs. Jacques Heath (Lily May Peel)</td>\n",
       "      <td>female</td>\n",
       "      <td>35.0</td>\n",
       "      <td>1</td>\n",
       "      <td>0</td>\n",
       "      <td>113803</td>\n",
       "      <td>53.1000</td>\n",
       "      <td>C123</td>\n",
       "      <td>S</td>\n",
       "    </tr>\n",
       "    <tr>\n",
       "      <th>4</th>\n",
       "      <td>5</td>\n",
       "      <td>0</td>\n",
       "      <td>3</td>\n",
       "      <td>Allen, Mr. William Henry</td>\n",
       "      <td>male</td>\n",
       "      <td>35.0</td>\n",
       "      <td>0</td>\n",
       "      <td>0</td>\n",
       "      <td>373450</td>\n",
       "      <td>8.0500</td>\n",
       "      <td>NaN</td>\n",
       "      <td>S</td>\n",
       "    </tr>\n",
       "  </tbody>\n",
       "</table>\n",
       "</div>"
      ],
      "text/plain": [
       "   PassengerId  Survived  Pclass  \\\n",
       "0            1         0       3   \n",
       "1            2         1       1   \n",
       "2            3         1       3   \n",
       "3            4         1       1   \n",
       "4            5         0       3   \n",
       "\n",
       "                                                Name     Sex   Age  SibSp  \\\n",
       "0                            Braund, Mr. Owen Harris    male  22.0      1   \n",
       "1  Cumings, Mrs. John Bradley (Florence Briggs Th...  female  38.0      1   \n",
       "2                             Heikkinen, Miss. Laina  female  26.0      0   \n",
       "3       Futrelle, Mrs. Jacques Heath (Lily May Peel)  female  35.0      1   \n",
       "4                           Allen, Mr. William Henry    male  35.0      0   \n",
       "\n",
       "   Parch            Ticket     Fare Cabin Embarked  \n",
       "0      0         A/5 21171   7.2500   NaN        S  \n",
       "1      0          PC 17599  71.2833   C85        C  \n",
       "2      0  STON/O2. 3101282   7.9250   NaN        S  \n",
       "3      0            113803  53.1000  C123        S  \n",
       "4      0            373450   8.0500   NaN        S  "
      ]
     },
     "execution_count": 132,
     "metadata": {},
     "output_type": "execute_result"
    }
   ],
   "source": [
    "df.head()"
   ]
  },
  {
   "cell_type": "code",
   "execution_count": 255,
   "metadata": {
    "execution": {
     "iopub.execute_input": "2025-08-18T19:53:13.735133Z",
     "iopub.status.busy": "2025-08-18T19:53:13.734756Z",
     "iopub.status.idle": "2025-08-18T19:53:13.743629Z",
     "shell.execute_reply": "2025-08-18T19:53:13.742580Z",
     "shell.execute_reply.started": "2025-08-18T19:53:13.735090Z"
    }
   },
   "outputs": [
    {
     "data": {
      "text/plain": [
       "Parch\n",
       "0    678\n",
       "1    118\n",
       "2     80\n",
       "5      5\n",
       "3      5\n",
       "4      4\n",
       "6      1\n",
       "Name: count, dtype: int64"
      ]
     },
     "execution_count": 255,
     "metadata": {},
     "output_type": "execute_result"
    }
   ],
   "source": [
    "df['Parch'].value_counts()"
   ]
  },
  {
   "cell_type": "code",
   "execution_count": 256,
   "metadata": {
    "execution": {
     "iopub.execute_input": "2025-08-18T19:53:24.328096Z",
     "iopub.status.busy": "2025-08-18T19:53:24.327721Z",
     "iopub.status.idle": "2025-08-18T19:53:24.336300Z",
     "shell.execute_reply": "2025-08-18T19:53:24.335305Z",
     "shell.execute_reply.started": "2025-08-18T19:53:24.328069Z"
    }
   },
   "outputs": [
    {
     "data": {
      "text/plain": [
       "SibSp\n",
       "0    608\n",
       "1    209\n",
       "2     28\n",
       "4     18\n",
       "3     16\n",
       "8      7\n",
       "5      5\n",
       "Name: count, dtype: int64"
      ]
     },
     "execution_count": 256,
     "metadata": {},
     "output_type": "execute_result"
    }
   ],
   "source": [
    "df['SibSp'].value_counts()"
   ]
  },
  {
   "cell_type": "code",
   "execution_count": 134,
   "metadata": {
    "execution": {
     "iopub.execute_input": "2025-08-18T19:23:26.676214Z",
     "iopub.status.busy": "2025-08-18T19:23:26.675836Z",
     "iopub.status.idle": "2025-08-18T19:23:26.683288Z",
     "shell.execute_reply": "2025-08-18T19:23:26.682346Z",
     "shell.execute_reply.started": "2025-08-18T19:23:26.676188Z"
    }
   },
   "outputs": [
    {
     "data": {
      "text/plain": [
       "891"
      ]
     },
     "execution_count": 134,
     "metadata": {},
     "output_type": "execute_result"
    }
   ],
   "source": [
    "len(df)"
   ]
  },
  {
   "cell_type": "code",
   "execution_count": 276,
   "metadata": {
    "execution": {
     "iopub.execute_input": "2025-08-18T19:56:52.185255Z",
     "iopub.status.busy": "2025-08-18T19:56:52.184879Z",
     "iopub.status.idle": "2025-08-18T19:56:52.210090Z",
     "shell.execute_reply": "2025-08-18T19:56:52.208894Z",
     "shell.execute_reply.started": "2025-08-18T19:56:52.185213Z"
    }
   },
   "outputs": [
    {
     "name": "stderr",
     "output_type": "stream",
     "text": [
      "/tmp/ipykernel_36/190085966.py:2: SettingWithCopyWarning: \n",
      "A value is trying to be set on a copy of a slice from a DataFrame.\n",
      "Try using .loc[row_indexer,col_indexer] = value instead\n",
      "\n",
      "See the caveats in the documentation: https://pandas.pydata.org/pandas-docs/stable/user_guide/indexing.html#returning-a-view-versus-a-copy\n",
      "  new_df['Priority'] = new_df.apply(priorityFunction, axis=1)\n",
      "/tmp/ipykernel_36/190085966.py:3: SettingWithCopyWarning: \n",
      "A value is trying to be set on a copy of a slice from a DataFrame.\n",
      "Try using .loc[row_indexer,col_indexer] = value instead\n",
      "\n",
      "See the caveats in the documentation: https://pandas.pydata.org/pandas-docs/stable/user_guide/indexing.html#returning-a-view-versus-a-copy\n",
      "  new_df[\"Title\"] = new_df['Name'].apply(lambda x: Get_Title(x))\n"
     ]
    }
   ],
   "source": [
    "new_df = df[['Survived','Pclass','Age','Sex','Name','Fare']]\n",
    "new_df['Priority'] = new_df.apply(priorityFunction, axis=1)\n",
    "new_df[\"Title\"] = new_df['Name'].apply(lambda x: Get_Title(x))"
   ]
  },
  {
   "cell_type": "code",
   "execution_count": 277,
   "metadata": {
    "execution": {
     "iopub.execute_input": "2025-08-18T19:56:52.964514Z",
     "iopub.status.busy": "2025-08-18T19:56:52.963124Z",
     "iopub.status.idle": "2025-08-18T19:56:52.981580Z",
     "shell.execute_reply": "2025-08-18T19:56:52.980246Z",
     "shell.execute_reply.started": "2025-08-18T19:56:52.964479Z"
    }
   },
   "outputs": [
    {
     "name": "stderr",
     "output_type": "stream",
     "text": [
      "/usr/local/lib/python3.11/dist-packages/pandas/io/formats/format.py:1458: RuntimeWarning: invalid value encountered in greater\n",
      "  has_large_values = (abs_vals > 1e6).any()\n",
      "/usr/local/lib/python3.11/dist-packages/pandas/io/formats/format.py:1459: RuntimeWarning: invalid value encountered in less\n",
      "  has_small_values = ((abs_vals < 10 ** (-self.digits)) & (abs_vals > 0)).any()\n",
      "/usr/local/lib/python3.11/dist-packages/pandas/io/formats/format.py:1459: RuntimeWarning: invalid value encountered in greater\n",
      "  has_small_values = ((abs_vals < 10 ** (-self.digits)) & (abs_vals > 0)).any()\n"
     ]
    },
    {
     "data": {
      "text/html": [
       "<div>\n",
       "<style scoped>\n",
       "    .dataframe tbody tr th:only-of-type {\n",
       "        vertical-align: middle;\n",
       "    }\n",
       "\n",
       "    .dataframe tbody tr th {\n",
       "        vertical-align: top;\n",
       "    }\n",
       "\n",
       "    .dataframe thead th {\n",
       "        text-align: right;\n",
       "    }\n",
       "</style>\n",
       "<table border=\"1\" class=\"dataframe\">\n",
       "  <thead>\n",
       "    <tr style=\"text-align: right;\">\n",
       "      <th></th>\n",
       "      <th>Survived</th>\n",
       "      <th>Pclass</th>\n",
       "      <th>Age</th>\n",
       "      <th>Sex</th>\n",
       "      <th>Name</th>\n",
       "      <th>Fare</th>\n",
       "      <th>Priority</th>\n",
       "      <th>Title</th>\n",
       "    </tr>\n",
       "  </thead>\n",
       "  <tbody>\n",
       "    <tr>\n",
       "      <th>0</th>\n",
       "      <td>0</td>\n",
       "      <td>3</td>\n",
       "      <td>22.0</td>\n",
       "      <td>male</td>\n",
       "      <td>Braund, Mr. Owen Harris</td>\n",
       "      <td>7.2500</td>\n",
       "      <td>5</td>\n",
       "      <td>3</td>\n",
       "    </tr>\n",
       "    <tr>\n",
       "      <th>1</th>\n",
       "      <td>1</td>\n",
       "      <td>1</td>\n",
       "      <td>38.0</td>\n",
       "      <td>female</td>\n",
       "      <td>Cumings, Mrs. John Bradley (Florence Briggs Th...</td>\n",
       "      <td>71.2833</td>\n",
       "      <td>3</td>\n",
       "      <td>2</td>\n",
       "    </tr>\n",
       "    <tr>\n",
       "      <th>2</th>\n",
       "      <td>1</td>\n",
       "      <td>3</td>\n",
       "      <td>26.0</td>\n",
       "      <td>female</td>\n",
       "      <td>Heikkinen, Miss. Laina</td>\n",
       "      <td>7.9250</td>\n",
       "      <td>4</td>\n",
       "      <td>2</td>\n",
       "    </tr>\n",
       "    <tr>\n",
       "      <th>3</th>\n",
       "      <td>1</td>\n",
       "      <td>1</td>\n",
       "      <td>35.0</td>\n",
       "      <td>female</td>\n",
       "      <td>Futrelle, Mrs. Jacques Heath (Lily May Peel)</td>\n",
       "      <td>53.1000</td>\n",
       "      <td>3</td>\n",
       "      <td>2</td>\n",
       "    </tr>\n",
       "    <tr>\n",
       "      <th>4</th>\n",
       "      <td>0</td>\n",
       "      <td>3</td>\n",
       "      <td>35.0</td>\n",
       "      <td>male</td>\n",
       "      <td>Allen, Mr. William Henry</td>\n",
       "      <td>8.0500</td>\n",
       "      <td>5</td>\n",
       "      <td>3</td>\n",
       "    </tr>\n",
       "    <tr>\n",
       "      <th>...</th>\n",
       "      <td>...</td>\n",
       "      <td>...</td>\n",
       "      <td>...</td>\n",
       "      <td>...</td>\n",
       "      <td>...</td>\n",
       "      <td>...</td>\n",
       "      <td>...</td>\n",
       "      <td>...</td>\n",
       "    </tr>\n",
       "    <tr>\n",
       "      <th>886</th>\n",
       "      <td>0</td>\n",
       "      <td>2</td>\n",
       "      <td>27.0</td>\n",
       "      <td>male</td>\n",
       "      <td>Montvila, Rev. Juozas</td>\n",
       "      <td>13.0000</td>\n",
       "      <td>5</td>\n",
       "      <td>4</td>\n",
       "    </tr>\n",
       "    <tr>\n",
       "      <th>887</th>\n",
       "      <td>1</td>\n",
       "      <td>1</td>\n",
       "      <td>19.0</td>\n",
       "      <td>female</td>\n",
       "      <td>Graham, Miss. Margaret Edith</td>\n",
       "      <td>30.0000</td>\n",
       "      <td>3</td>\n",
       "      <td>2</td>\n",
       "    </tr>\n",
       "    <tr>\n",
       "      <th>888</th>\n",
       "      <td>0</td>\n",
       "      <td>3</td>\n",
       "      <td>NaN</td>\n",
       "      <td>female</td>\n",
       "      <td>Johnston, Miss. Catherine Helen \"Carrie\"</td>\n",
       "      <td>23.4500</td>\n",
       "      <td>4</td>\n",
       "      <td>2</td>\n",
       "    </tr>\n",
       "    <tr>\n",
       "      <th>889</th>\n",
       "      <td>1</td>\n",
       "      <td>1</td>\n",
       "      <td>26.0</td>\n",
       "      <td>male</td>\n",
       "      <td>Behr, Mr. Karl Howell</td>\n",
       "      <td>30.0000</td>\n",
       "      <td>5</td>\n",
       "      <td>3</td>\n",
       "    </tr>\n",
       "    <tr>\n",
       "      <th>890</th>\n",
       "      <td>0</td>\n",
       "      <td>3</td>\n",
       "      <td>32.0</td>\n",
       "      <td>male</td>\n",
       "      <td>Dooley, Mr. Patrick</td>\n",
       "      <td>7.7500</td>\n",
       "      <td>5</td>\n",
       "      <td>3</td>\n",
       "    </tr>\n",
       "  </tbody>\n",
       "</table>\n",
       "<p>891 rows × 8 columns</p>\n",
       "</div>"
      ],
      "text/plain": [
       "     Survived  Pclass   Age     Sex  \\\n",
       "0           0       3  22.0    male   \n",
       "1           1       1  38.0  female   \n",
       "2           1       3  26.0  female   \n",
       "3           1       1  35.0  female   \n",
       "4           0       3  35.0    male   \n",
       "..        ...     ...   ...     ...   \n",
       "886         0       2  27.0    male   \n",
       "887         1       1  19.0  female   \n",
       "888         0       3   NaN  female   \n",
       "889         1       1  26.0    male   \n",
       "890         0       3  32.0    male   \n",
       "\n",
       "                                                  Name     Fare  Priority  \\\n",
       "0                              Braund, Mr. Owen Harris   7.2500         5   \n",
       "1    Cumings, Mrs. John Bradley (Florence Briggs Th...  71.2833         3   \n",
       "2                               Heikkinen, Miss. Laina   7.9250         4   \n",
       "3         Futrelle, Mrs. Jacques Heath (Lily May Peel)  53.1000         3   \n",
       "4                             Allen, Mr. William Henry   8.0500         5   \n",
       "..                                                 ...      ...       ...   \n",
       "886                              Montvila, Rev. Juozas  13.0000         5   \n",
       "887                       Graham, Miss. Margaret Edith  30.0000         3   \n",
       "888           Johnston, Miss. Catherine Helen \"Carrie\"  23.4500         4   \n",
       "889                              Behr, Mr. Karl Howell  30.0000         5   \n",
       "890                                Dooley, Mr. Patrick   7.7500         5   \n",
       "\n",
       "     Title  \n",
       "0        3  \n",
       "1        2  \n",
       "2        2  \n",
       "3        2  \n",
       "4        3  \n",
       "..     ...  \n",
       "886      4  \n",
       "887      2  \n",
       "888      2  \n",
       "889      3  \n",
       "890      3  \n",
       "\n",
       "[891 rows x 8 columns]"
      ]
     },
     "execution_count": 277,
     "metadata": {},
     "output_type": "execute_result"
    }
   ],
   "source": [
    "new_df"
   ]
  },
  {
   "cell_type": "code",
   "execution_count": 278,
   "metadata": {
    "execution": {
     "iopub.execute_input": "2025-08-18T19:56:54.120467Z",
     "iopub.status.busy": "2025-08-18T19:56:54.120034Z",
     "iopub.status.idle": "2025-08-18T19:56:54.126412Z",
     "shell.execute_reply": "2025-08-18T19:56:54.125279Z",
     "shell.execute_reply.started": "2025-08-18T19:56:54.120439Z"
    }
   },
   "outputs": [],
   "source": [
    "df_y = new_df[['Survived']]"
   ]
  },
  {
   "cell_type": "code",
   "execution_count": 279,
   "metadata": {
    "execution": {
     "iopub.execute_input": "2025-08-18T19:56:54.635392Z",
     "iopub.status.busy": "2025-08-18T19:56:54.635015Z",
     "iopub.status.idle": "2025-08-18T19:56:54.645310Z",
     "shell.execute_reply": "2025-08-18T19:56:54.644449Z",
     "shell.execute_reply.started": "2025-08-18T19:56:54.635368Z"
    }
   },
   "outputs": [
    {
     "data": {
      "text/html": [
       "<div>\n",
       "<style scoped>\n",
       "    .dataframe tbody tr th:only-of-type {\n",
       "        vertical-align: middle;\n",
       "    }\n",
       "\n",
       "    .dataframe tbody tr th {\n",
       "        vertical-align: top;\n",
       "    }\n",
       "\n",
       "    .dataframe thead th {\n",
       "        text-align: right;\n",
       "    }\n",
       "</style>\n",
       "<table border=\"1\" class=\"dataframe\">\n",
       "  <thead>\n",
       "    <tr style=\"text-align: right;\">\n",
       "      <th></th>\n",
       "      <th>Survived</th>\n",
       "    </tr>\n",
       "  </thead>\n",
       "  <tbody>\n",
       "    <tr>\n",
       "      <th>0</th>\n",
       "      <td>0</td>\n",
       "    </tr>\n",
       "    <tr>\n",
       "      <th>1</th>\n",
       "      <td>1</td>\n",
       "    </tr>\n",
       "    <tr>\n",
       "      <th>2</th>\n",
       "      <td>1</td>\n",
       "    </tr>\n",
       "    <tr>\n",
       "      <th>3</th>\n",
       "      <td>1</td>\n",
       "    </tr>\n",
       "    <tr>\n",
       "      <th>4</th>\n",
       "      <td>0</td>\n",
       "    </tr>\n",
       "    <tr>\n",
       "      <th>...</th>\n",
       "      <td>...</td>\n",
       "    </tr>\n",
       "    <tr>\n",
       "      <th>886</th>\n",
       "      <td>0</td>\n",
       "    </tr>\n",
       "    <tr>\n",
       "      <th>887</th>\n",
       "      <td>1</td>\n",
       "    </tr>\n",
       "    <tr>\n",
       "      <th>888</th>\n",
       "      <td>0</td>\n",
       "    </tr>\n",
       "    <tr>\n",
       "      <th>889</th>\n",
       "      <td>1</td>\n",
       "    </tr>\n",
       "    <tr>\n",
       "      <th>890</th>\n",
       "      <td>0</td>\n",
       "    </tr>\n",
       "  </tbody>\n",
       "</table>\n",
       "<p>891 rows × 1 columns</p>\n",
       "</div>"
      ],
      "text/plain": [
       "     Survived\n",
       "0           0\n",
       "1           1\n",
       "2           1\n",
       "3           1\n",
       "4           0\n",
       "..        ...\n",
       "886         0\n",
       "887         1\n",
       "888         0\n",
       "889         1\n",
       "890         0\n",
       "\n",
       "[891 rows x 1 columns]"
      ]
     },
     "execution_count": 279,
     "metadata": {},
     "output_type": "execute_result"
    }
   ],
   "source": [
    "df_y"
   ]
  },
  {
   "cell_type": "code",
   "execution_count": 280,
   "metadata": {
    "execution": {
     "iopub.execute_input": "2025-08-18T19:56:59.577581Z",
     "iopub.status.busy": "2025-08-18T19:56:59.577192Z",
     "iopub.status.idle": "2025-08-18T19:56:59.593763Z",
     "shell.execute_reply": "2025-08-18T19:56:59.592752Z",
     "shell.execute_reply.started": "2025-08-18T19:56:59.577558Z"
    }
   },
   "outputs": [
    {
     "name": "stderr",
     "output_type": "stream",
     "text": [
      "/usr/local/lib/python3.11/dist-packages/pandas/io/formats/format.py:1458: RuntimeWarning: invalid value encountered in greater\n",
      "  has_large_values = (abs_vals > 1e6).any()\n",
      "/usr/local/lib/python3.11/dist-packages/pandas/io/formats/format.py:1459: RuntimeWarning: invalid value encountered in less\n",
      "  has_small_values = ((abs_vals < 10 ** (-self.digits)) & (abs_vals > 0)).any()\n",
      "/usr/local/lib/python3.11/dist-packages/pandas/io/formats/format.py:1459: RuntimeWarning: invalid value encountered in greater\n",
      "  has_small_values = ((abs_vals < 10 ** (-self.digits)) & (abs_vals > 0)).any()\n"
     ]
    },
    {
     "data": {
      "text/html": [
       "<div>\n",
       "<style scoped>\n",
       "    .dataframe tbody tr th:only-of-type {\n",
       "        vertical-align: middle;\n",
       "    }\n",
       "\n",
       "    .dataframe tbody tr th {\n",
       "        vertical-align: top;\n",
       "    }\n",
       "\n",
       "    .dataframe thead th {\n",
       "        text-align: right;\n",
       "    }\n",
       "</style>\n",
       "<table border=\"1\" class=\"dataframe\">\n",
       "  <thead>\n",
       "    <tr style=\"text-align: right;\">\n",
       "      <th></th>\n",
       "      <th>Pclass</th>\n",
       "      <th>Age</th>\n",
       "      <th>Sex</th>\n",
       "      <th>Priority</th>\n",
       "      <th>Title</th>\n",
       "      <th>Fare</th>\n",
       "    </tr>\n",
       "  </thead>\n",
       "  <tbody>\n",
       "    <tr>\n",
       "      <th>0</th>\n",
       "      <td>3</td>\n",
       "      <td>22.0</td>\n",
       "      <td>male</td>\n",
       "      <td>5</td>\n",
       "      <td>3</td>\n",
       "      <td>7.2500</td>\n",
       "    </tr>\n",
       "    <tr>\n",
       "      <th>1</th>\n",
       "      <td>1</td>\n",
       "      <td>38.0</td>\n",
       "      <td>female</td>\n",
       "      <td>3</td>\n",
       "      <td>2</td>\n",
       "      <td>71.2833</td>\n",
       "    </tr>\n",
       "    <tr>\n",
       "      <th>2</th>\n",
       "      <td>3</td>\n",
       "      <td>26.0</td>\n",
       "      <td>female</td>\n",
       "      <td>4</td>\n",
       "      <td>2</td>\n",
       "      <td>7.9250</td>\n",
       "    </tr>\n",
       "    <tr>\n",
       "      <th>3</th>\n",
       "      <td>1</td>\n",
       "      <td>35.0</td>\n",
       "      <td>female</td>\n",
       "      <td>3</td>\n",
       "      <td>2</td>\n",
       "      <td>53.1000</td>\n",
       "    </tr>\n",
       "    <tr>\n",
       "      <th>4</th>\n",
       "      <td>3</td>\n",
       "      <td>35.0</td>\n",
       "      <td>male</td>\n",
       "      <td>5</td>\n",
       "      <td>3</td>\n",
       "      <td>8.0500</td>\n",
       "    </tr>\n",
       "    <tr>\n",
       "      <th>...</th>\n",
       "      <td>...</td>\n",
       "      <td>...</td>\n",
       "      <td>...</td>\n",
       "      <td>...</td>\n",
       "      <td>...</td>\n",
       "      <td>...</td>\n",
       "    </tr>\n",
       "    <tr>\n",
       "      <th>886</th>\n",
       "      <td>2</td>\n",
       "      <td>27.0</td>\n",
       "      <td>male</td>\n",
       "      <td>5</td>\n",
       "      <td>4</td>\n",
       "      <td>13.0000</td>\n",
       "    </tr>\n",
       "    <tr>\n",
       "      <th>887</th>\n",
       "      <td>1</td>\n",
       "      <td>19.0</td>\n",
       "      <td>female</td>\n",
       "      <td>3</td>\n",
       "      <td>2</td>\n",
       "      <td>30.0000</td>\n",
       "    </tr>\n",
       "    <tr>\n",
       "      <th>888</th>\n",
       "      <td>3</td>\n",
       "      <td>NaN</td>\n",
       "      <td>female</td>\n",
       "      <td>4</td>\n",
       "      <td>2</td>\n",
       "      <td>23.4500</td>\n",
       "    </tr>\n",
       "    <tr>\n",
       "      <th>889</th>\n",
       "      <td>1</td>\n",
       "      <td>26.0</td>\n",
       "      <td>male</td>\n",
       "      <td>5</td>\n",
       "      <td>3</td>\n",
       "      <td>30.0000</td>\n",
       "    </tr>\n",
       "    <tr>\n",
       "      <th>890</th>\n",
       "      <td>3</td>\n",
       "      <td>32.0</td>\n",
       "      <td>male</td>\n",
       "      <td>5</td>\n",
       "      <td>3</td>\n",
       "      <td>7.7500</td>\n",
       "    </tr>\n",
       "  </tbody>\n",
       "</table>\n",
       "<p>891 rows × 6 columns</p>\n",
       "</div>"
      ],
      "text/plain": [
       "     Pclass   Age     Sex  Priority  Title     Fare\n",
       "0         3  22.0    male         5      3   7.2500\n",
       "1         1  38.0  female         3      2  71.2833\n",
       "2         3  26.0  female         4      2   7.9250\n",
       "3         1  35.0  female         3      2  53.1000\n",
       "4         3  35.0    male         5      3   8.0500\n",
       "..      ...   ...     ...       ...    ...      ...\n",
       "886       2  27.0    male         5      4  13.0000\n",
       "887       1  19.0  female         3      2  30.0000\n",
       "888       3   NaN  female         4      2  23.4500\n",
       "889       1  26.0    male         5      3  30.0000\n",
       "890       3  32.0    male         5      3   7.7500\n",
       "\n",
       "[891 rows x 6 columns]"
      ]
     },
     "execution_count": 280,
     "metadata": {},
     "output_type": "execute_result"
    }
   ],
   "source": [
    "df_x = new_df[['Pclass','Age','Sex','Priority','Title','Fare']]\n",
    "df_x"
   ]
  },
  {
   "cell_type": "code",
   "execution_count": 281,
   "metadata": {
    "execution": {
     "iopub.execute_input": "2025-08-18T19:57:01.011841Z",
     "iopub.status.busy": "2025-08-18T19:57:01.011478Z",
     "iopub.status.idle": "2025-08-18T19:57:01.027164Z",
     "shell.execute_reply": "2025-08-18T19:57:01.025842Z",
     "shell.execute_reply.started": "2025-08-18T19:57:01.011817Z"
    }
   },
   "outputs": [],
   "source": [
    "df_x = pd.get_dummies(df_x)\n",
    "df_x['Age'] = df_x.groupby('Pclass')['Age'].transform(lambda x: x.fillna(x.mean()))\n"
   ]
  },
  {
   "cell_type": "code",
   "execution_count": 282,
   "metadata": {
    "execution": {
     "iopub.execute_input": "2025-08-18T19:57:02.982419Z",
     "iopub.status.busy": "2025-08-18T19:57:02.982045Z",
     "iopub.status.idle": "2025-08-18T19:57:02.995749Z",
     "shell.execute_reply": "2025-08-18T19:57:02.994675Z",
     "shell.execute_reply.started": "2025-08-18T19:57:02.982388Z"
    }
   },
   "outputs": [
    {
     "data": {
      "text/html": [
       "<div>\n",
       "<style scoped>\n",
       "    .dataframe tbody tr th:only-of-type {\n",
       "        vertical-align: middle;\n",
       "    }\n",
       "\n",
       "    .dataframe tbody tr th {\n",
       "        vertical-align: top;\n",
       "    }\n",
       "\n",
       "    .dataframe thead th {\n",
       "        text-align: right;\n",
       "    }\n",
       "</style>\n",
       "<table border=\"1\" class=\"dataframe\">\n",
       "  <thead>\n",
       "    <tr style=\"text-align: right;\">\n",
       "      <th></th>\n",
       "      <th>Pclass</th>\n",
       "      <th>Age</th>\n",
       "      <th>Priority</th>\n",
       "      <th>Title</th>\n",
       "      <th>Fare</th>\n",
       "      <th>Sex_female</th>\n",
       "      <th>Sex_male</th>\n",
       "    </tr>\n",
       "  </thead>\n",
       "  <tbody>\n",
       "    <tr>\n",
       "      <th>0</th>\n",
       "      <td>3</td>\n",
       "      <td>22.00000</td>\n",
       "      <td>5</td>\n",
       "      <td>3</td>\n",
       "      <td>7.2500</td>\n",
       "      <td>False</td>\n",
       "      <td>True</td>\n",
       "    </tr>\n",
       "    <tr>\n",
       "      <th>1</th>\n",
       "      <td>1</td>\n",
       "      <td>38.00000</td>\n",
       "      <td>3</td>\n",
       "      <td>2</td>\n",
       "      <td>71.2833</td>\n",
       "      <td>True</td>\n",
       "      <td>False</td>\n",
       "    </tr>\n",
       "    <tr>\n",
       "      <th>2</th>\n",
       "      <td>3</td>\n",
       "      <td>26.00000</td>\n",
       "      <td>4</td>\n",
       "      <td>2</td>\n",
       "      <td>7.9250</td>\n",
       "      <td>True</td>\n",
       "      <td>False</td>\n",
       "    </tr>\n",
       "    <tr>\n",
       "      <th>3</th>\n",
       "      <td>1</td>\n",
       "      <td>35.00000</td>\n",
       "      <td>3</td>\n",
       "      <td>2</td>\n",
       "      <td>53.1000</td>\n",
       "      <td>True</td>\n",
       "      <td>False</td>\n",
       "    </tr>\n",
       "    <tr>\n",
       "      <th>4</th>\n",
       "      <td>3</td>\n",
       "      <td>35.00000</td>\n",
       "      <td>5</td>\n",
       "      <td>3</td>\n",
       "      <td>8.0500</td>\n",
       "      <td>False</td>\n",
       "      <td>True</td>\n",
       "    </tr>\n",
       "    <tr>\n",
       "      <th>...</th>\n",
       "      <td>...</td>\n",
       "      <td>...</td>\n",
       "      <td>...</td>\n",
       "      <td>...</td>\n",
       "      <td>...</td>\n",
       "      <td>...</td>\n",
       "      <td>...</td>\n",
       "    </tr>\n",
       "    <tr>\n",
       "      <th>886</th>\n",
       "      <td>2</td>\n",
       "      <td>27.00000</td>\n",
       "      <td>5</td>\n",
       "      <td>4</td>\n",
       "      <td>13.0000</td>\n",
       "      <td>False</td>\n",
       "      <td>True</td>\n",
       "    </tr>\n",
       "    <tr>\n",
       "      <th>887</th>\n",
       "      <td>1</td>\n",
       "      <td>19.00000</td>\n",
       "      <td>3</td>\n",
       "      <td>2</td>\n",
       "      <td>30.0000</td>\n",
       "      <td>True</td>\n",
       "      <td>False</td>\n",
       "    </tr>\n",
       "    <tr>\n",
       "      <th>888</th>\n",
       "      <td>3</td>\n",
       "      <td>25.14062</td>\n",
       "      <td>4</td>\n",
       "      <td>2</td>\n",
       "      <td>23.4500</td>\n",
       "      <td>True</td>\n",
       "      <td>False</td>\n",
       "    </tr>\n",
       "    <tr>\n",
       "      <th>889</th>\n",
       "      <td>1</td>\n",
       "      <td>26.00000</td>\n",
       "      <td>5</td>\n",
       "      <td>3</td>\n",
       "      <td>30.0000</td>\n",
       "      <td>False</td>\n",
       "      <td>True</td>\n",
       "    </tr>\n",
       "    <tr>\n",
       "      <th>890</th>\n",
       "      <td>3</td>\n",
       "      <td>32.00000</td>\n",
       "      <td>5</td>\n",
       "      <td>3</td>\n",
       "      <td>7.7500</td>\n",
       "      <td>False</td>\n",
       "      <td>True</td>\n",
       "    </tr>\n",
       "  </tbody>\n",
       "</table>\n",
       "<p>891 rows × 7 columns</p>\n",
       "</div>"
      ],
      "text/plain": [
       "     Pclass       Age  Priority  Title     Fare  Sex_female  Sex_male\n",
       "0         3  22.00000         5      3   7.2500       False      True\n",
       "1         1  38.00000         3      2  71.2833        True     False\n",
       "2         3  26.00000         4      2   7.9250        True     False\n",
       "3         1  35.00000         3      2  53.1000        True     False\n",
       "4         3  35.00000         5      3   8.0500       False      True\n",
       "..      ...       ...       ...    ...      ...         ...       ...\n",
       "886       2  27.00000         5      4  13.0000       False      True\n",
       "887       1  19.00000         3      2  30.0000        True     False\n",
       "888       3  25.14062         4      2  23.4500        True     False\n",
       "889       1  26.00000         5      3  30.0000       False      True\n",
       "890       3  32.00000         5      3   7.7500       False      True\n",
       "\n",
       "[891 rows x 7 columns]"
      ]
     },
     "execution_count": 282,
     "metadata": {},
     "output_type": "execute_result"
    }
   ],
   "source": [
    "df_x"
   ]
  },
  {
   "cell_type": "code",
   "execution_count": 283,
   "metadata": {
    "execution": {
     "iopub.execute_input": "2025-08-18T19:57:03.220383Z",
     "iopub.status.busy": "2025-08-18T19:57:03.219979Z",
     "iopub.status.idle": "2025-08-18T19:57:03.226586Z",
     "shell.execute_reply": "2025-08-18T19:57:03.225523Z",
     "shell.execute_reply.started": "2025-08-18T19:57:03.220354Z"
    }
   },
   "outputs": [],
   "source": [
    "from sklearn.linear_model import LinearRegression\n",
    "from sklearn.linear_model import LogisticRegression\n",
    "from sklearn.model_selection import train_test_split\n",
    "from sklearn.preprocessing import StandardScaler\n",
    "from sklearn.metrics import mean_squared_error, r2_score\n",
    "import pandas as pd\n",
    "import numpy as np"
   ]
  },
  {
   "cell_type": "code",
   "execution_count": 231,
   "metadata": {
    "execution": {
     "iopub.execute_input": "2025-08-18T19:44:15.533750Z",
     "iopub.status.busy": "2025-08-18T19:44:15.533438Z",
     "iopub.status.idle": "2025-08-18T19:44:15.543546Z",
     "shell.execute_reply": "2025-08-18T19:44:15.542006Z",
     "shell.execute_reply.started": "2025-08-18T19:44:15.533730Z"
    }
   },
   "outputs": [],
   "source": [
    "#No usar\n",
    "X_train, X_val, y_train, y_val = train_test_split(\n",
    "    df_x, df_y, test_size=0.2, random_state=42\n",
    ")"
   ]
  },
  {
   "cell_type": "code",
   "execution_count": 284,
   "metadata": {
    "execution": {
     "iopub.execute_input": "2025-08-18T19:57:05.500226Z",
     "iopub.status.busy": "2025-08-18T19:57:05.499873Z",
     "iopub.status.idle": "2025-08-18T19:57:05.511589Z",
     "shell.execute_reply": "2025-08-18T19:57:05.510586Z",
     "shell.execute_reply.started": "2025-08-18T19:57:05.500202Z"
    }
   },
   "outputs": [],
   "source": [
    "from sklearn.preprocessing import StandardScaler\n",
    "scaler = StandardScaler()\n",
    "X_train_scaled = scaler.fit_transform(df_x)"
   ]
  },
  {
   "cell_type": "code",
   "execution_count": 285,
   "metadata": {
    "execution": {
     "iopub.execute_input": "2025-08-18T19:57:06.447915Z",
     "iopub.status.busy": "2025-08-18T19:57:06.447610Z",
     "iopub.status.idle": "2025-08-18T19:57:06.452746Z",
     "shell.execute_reply": "2025-08-18T19:57:06.451567Z",
     "shell.execute_reply.started": "2025-08-18T19:57:06.447893Z"
    }
   },
   "outputs": [],
   "source": [
    "y_train = df_y.values.ravel()"
   ]
  },
  {
   "cell_type": "code",
   "execution_count": null,
   "metadata": {},
   "outputs": [],
   "source": []
  },
  {
   "cell_type": "code",
   "execution_count": 286,
   "metadata": {
    "execution": {
     "iopub.execute_input": "2025-08-18T19:57:07.843272Z",
     "iopub.status.busy": "2025-08-18T19:57:07.842418Z",
     "iopub.status.idle": "2025-08-18T19:57:07.895061Z",
     "shell.execute_reply": "2025-08-18T19:57:07.894281Z",
     "shell.execute_reply.started": "2025-08-18T19:57:07.843207Z"
    }
   },
   "outputs": [
    {
     "data": {
      "text/html": [
       "<style>#sk-container-id-17 {color: black;background-color: white;}#sk-container-id-17 pre{padding: 0;}#sk-container-id-17 div.sk-toggleable {background-color: white;}#sk-container-id-17 label.sk-toggleable__label {cursor: pointer;display: block;width: 100%;margin-bottom: 0;padding: 0.3em;box-sizing: border-box;text-align: center;}#sk-container-id-17 label.sk-toggleable__label-arrow:before {content: \"▸\";float: left;margin-right: 0.25em;color: #696969;}#sk-container-id-17 label.sk-toggleable__label-arrow:hover:before {color: black;}#sk-container-id-17 div.sk-estimator:hover label.sk-toggleable__label-arrow:before {color: black;}#sk-container-id-17 div.sk-toggleable__content {max-height: 0;max-width: 0;overflow: hidden;text-align: left;background-color: #f0f8ff;}#sk-container-id-17 div.sk-toggleable__content pre {margin: 0.2em;color: black;border-radius: 0.25em;background-color: #f0f8ff;}#sk-container-id-17 input.sk-toggleable__control:checked~div.sk-toggleable__content {max-height: 200px;max-width: 100%;overflow: auto;}#sk-container-id-17 input.sk-toggleable__control:checked~label.sk-toggleable__label-arrow:before {content: \"▾\";}#sk-container-id-17 div.sk-estimator input.sk-toggleable__control:checked~label.sk-toggleable__label {background-color: #d4ebff;}#sk-container-id-17 div.sk-label input.sk-toggleable__control:checked~label.sk-toggleable__label {background-color: #d4ebff;}#sk-container-id-17 input.sk-hidden--visually {border: 0;clip: rect(1px 1px 1px 1px);clip: rect(1px, 1px, 1px, 1px);height: 1px;margin: -1px;overflow: hidden;padding: 0;position: absolute;width: 1px;}#sk-container-id-17 div.sk-estimator {font-family: monospace;background-color: #f0f8ff;border: 1px dotted black;border-radius: 0.25em;box-sizing: border-box;margin-bottom: 0.5em;}#sk-container-id-17 div.sk-estimator:hover {background-color: #d4ebff;}#sk-container-id-17 div.sk-parallel-item::after {content: \"\";width: 100%;border-bottom: 1px solid gray;flex-grow: 1;}#sk-container-id-17 div.sk-label:hover label.sk-toggleable__label {background-color: #d4ebff;}#sk-container-id-17 div.sk-serial::before {content: \"\";position: absolute;border-left: 1px solid gray;box-sizing: border-box;top: 0;bottom: 0;left: 50%;z-index: 0;}#sk-container-id-17 div.sk-serial {display: flex;flex-direction: column;align-items: center;background-color: white;padding-right: 0.2em;padding-left: 0.2em;position: relative;}#sk-container-id-17 div.sk-item {position: relative;z-index: 1;}#sk-container-id-17 div.sk-parallel {display: flex;align-items: stretch;justify-content: center;background-color: white;position: relative;}#sk-container-id-17 div.sk-item::before, #sk-container-id-17 div.sk-parallel-item::before {content: \"\";position: absolute;border-left: 1px solid gray;box-sizing: border-box;top: 0;bottom: 0;left: 50%;z-index: -1;}#sk-container-id-17 div.sk-parallel-item {display: flex;flex-direction: column;z-index: 1;position: relative;background-color: white;}#sk-container-id-17 div.sk-parallel-item:first-child::after {align-self: flex-end;width: 50%;}#sk-container-id-17 div.sk-parallel-item:last-child::after {align-self: flex-start;width: 50%;}#sk-container-id-17 div.sk-parallel-item:only-child::after {width: 0;}#sk-container-id-17 div.sk-dashed-wrapped {border: 1px dashed gray;margin: 0 0.4em 0.5em 0.4em;box-sizing: border-box;padding-bottom: 0.4em;background-color: white;}#sk-container-id-17 div.sk-label label {font-family: monospace;font-weight: bold;display: inline-block;line-height: 1.2em;}#sk-container-id-17 div.sk-label-container {text-align: center;}#sk-container-id-17 div.sk-container {/* jupyter's `normalize.less` sets `[hidden] { display: none; }` but bootstrap.min.css set `[hidden] { display: none !important; }` so we also need the `!important` here to be able to override the default hidden behavior on the sphinx rendered scikit-learn.org. See: https://github.com/scikit-learn/scikit-learn/issues/21755 */display: inline-block !important;position: relative;}#sk-container-id-17 div.sk-text-repr-fallback {display: none;}</style><div id=\"sk-container-id-17\" class=\"sk-top-container\"><div class=\"sk-text-repr-fallback\"><pre>LogisticRegression()</pre><b>In a Jupyter environment, please rerun this cell to show the HTML representation or trust the notebook. <br />On GitHub, the HTML representation is unable to render, please try loading this page with nbviewer.org.</b></div><div class=\"sk-container\" hidden><div class=\"sk-item\"><div class=\"sk-estimator sk-toggleable\"><input class=\"sk-toggleable__control sk-hidden--visually\" id=\"sk-estimator-id-17\" type=\"checkbox\" checked><label for=\"sk-estimator-id-17\" class=\"sk-toggleable__label sk-toggleable__label-arrow\">LogisticRegression</label><div class=\"sk-toggleable__content\"><pre>LogisticRegression()</pre></div></div></div></div></div>"
      ],
      "text/plain": [
       "LogisticRegression()"
      ]
     },
     "execution_count": 286,
     "metadata": {},
     "output_type": "execute_result"
    }
   ],
   "source": [
    "model = LogisticRegression()\n",
    "model.fit(X_train_scaled, y_train)"
   ]
  },
  {
   "cell_type": "code",
   "execution_count": 287,
   "metadata": {
    "execution": {
     "iopub.execute_input": "2025-08-18T19:57:08.894048Z",
     "iopub.status.busy": "2025-08-18T19:57:08.892731Z",
     "iopub.status.idle": "2025-08-18T19:57:08.898213Z",
     "shell.execute_reply": "2025-08-18T19:57:08.897220Z",
     "shell.execute_reply.started": "2025-08-18T19:57:08.894016Z"
    }
   },
   "outputs": [],
   "source": [
    "#submission"
   ]
  },
  {
   "cell_type": "code",
   "execution_count": 288,
   "metadata": {
    "execution": {
     "iopub.execute_input": "2025-08-18T19:57:09.556471Z",
     "iopub.status.busy": "2025-08-18T19:57:09.556106Z",
     "iopub.status.idle": "2025-08-18T19:57:09.565375Z",
     "shell.execute_reply": "2025-08-18T19:57:09.564399Z",
     "shell.execute_reply.started": "2025-08-18T19:57:09.556449Z"
    }
   },
   "outputs": [],
   "source": [
    "df_test = pd.read_csv(\"/kaggle/input/titanic/test.csv\")"
   ]
  },
  {
   "cell_type": "code",
   "execution_count": 289,
   "metadata": {
    "execution": {
     "iopub.execute_input": "2025-08-18T19:57:14.390650Z",
     "iopub.status.busy": "2025-08-18T19:57:14.390194Z",
     "iopub.status.idle": "2025-08-18T19:57:14.399601Z",
     "shell.execute_reply": "2025-08-18T19:57:14.398499Z",
     "shell.execute_reply.started": "2025-08-18T19:57:14.390625Z"
    }
   },
   "outputs": [
    {
     "data": {
      "text/plain": [
       "PassengerId      0\n",
       "Pclass           0\n",
       "Name             0\n",
       "Sex              0\n",
       "Age             86\n",
       "SibSp            0\n",
       "Parch            0\n",
       "Ticket           0\n",
       "Fare             1\n",
       "Cabin          327\n",
       "Embarked         0\n",
       "dtype: int64"
      ]
     },
     "execution_count": 289,
     "metadata": {},
     "output_type": "execute_result"
    }
   ],
   "source": [
    "df_test.isnull().sum()"
   ]
  },
  {
   "cell_type": "code",
   "execution_count": 290,
   "metadata": {
    "execution": {
     "iopub.execute_input": "2025-08-18T19:57:21.466200Z",
     "iopub.status.busy": "2025-08-18T19:57:21.465876Z",
     "iopub.status.idle": "2025-08-18T19:57:21.503525Z",
     "shell.execute_reply": "2025-08-18T19:57:21.502322Z",
     "shell.execute_reply.started": "2025-08-18T19:57:21.466177Z"
    }
   },
   "outputs": [
    {
     "name": "stderr",
     "output_type": "stream",
     "text": [
      "/tmp/ipykernel_36/4156660181.py:2: SettingWithCopyWarning: \n",
      "A value is trying to be set on a copy of a slice from a DataFrame.\n",
      "Try using .loc[row_indexer,col_indexer] = value instead\n",
      "\n",
      "See the caveats in the documentation: https://pandas.pydata.org/pandas-docs/stable/user_guide/indexing.html#returning-a-view-versus-a-copy\n",
      "  new_df_test['Priority'] = new_df_test.apply(priorityFunction, axis=1)\n",
      "/tmp/ipykernel_36/4156660181.py:3: SettingWithCopyWarning: \n",
      "A value is trying to be set on a copy of a slice from a DataFrame.\n",
      "Try using .loc[row_indexer,col_indexer] = value instead\n",
      "\n",
      "See the caveats in the documentation: https://pandas.pydata.org/pandas-docs/stable/user_guide/indexing.html#returning-a-view-versus-a-copy\n",
      "  new_df_test[\"Title\"] = new_df_test['Name'].apply(lambda x: Get_Title(x))\n"
     ]
    },
    {
     "data": {
      "text/html": [
       "<div>\n",
       "<style scoped>\n",
       "    .dataframe tbody tr th:only-of-type {\n",
       "        vertical-align: middle;\n",
       "    }\n",
       "\n",
       "    .dataframe tbody tr th {\n",
       "        vertical-align: top;\n",
       "    }\n",
       "\n",
       "    .dataframe thead th {\n",
       "        text-align: right;\n",
       "    }\n",
       "</style>\n",
       "<table border=\"1\" class=\"dataframe\">\n",
       "  <thead>\n",
       "    <tr style=\"text-align: right;\">\n",
       "      <th></th>\n",
       "      <th>Pclass</th>\n",
       "      <th>Age</th>\n",
       "      <th>Priority</th>\n",
       "      <th>Title</th>\n",
       "      <th>Fare</th>\n",
       "      <th>Sex_female</th>\n",
       "      <th>Sex_male</th>\n",
       "    </tr>\n",
       "  </thead>\n",
       "  <tbody>\n",
       "    <tr>\n",
       "      <th>0</th>\n",
       "      <td>3</td>\n",
       "      <td>34.500000</td>\n",
       "      <td>5</td>\n",
       "      <td>3</td>\n",
       "      <td>7.8292</td>\n",
       "      <td>False</td>\n",
       "      <td>True</td>\n",
       "    </tr>\n",
       "    <tr>\n",
       "      <th>1</th>\n",
       "      <td>3</td>\n",
       "      <td>47.000000</td>\n",
       "      <td>4</td>\n",
       "      <td>2</td>\n",
       "      <td>7.0000</td>\n",
       "      <td>True</td>\n",
       "      <td>False</td>\n",
       "    </tr>\n",
       "    <tr>\n",
       "      <th>2</th>\n",
       "      <td>2</td>\n",
       "      <td>62.000000</td>\n",
       "      <td>5</td>\n",
       "      <td>3</td>\n",
       "      <td>9.6875</td>\n",
       "      <td>False</td>\n",
       "      <td>True</td>\n",
       "    </tr>\n",
       "    <tr>\n",
       "      <th>3</th>\n",
       "      <td>3</td>\n",
       "      <td>27.000000</td>\n",
       "      <td>5</td>\n",
       "      <td>3</td>\n",
       "      <td>8.6625</td>\n",
       "      <td>False</td>\n",
       "      <td>True</td>\n",
       "    </tr>\n",
       "    <tr>\n",
       "      <th>4</th>\n",
       "      <td>3</td>\n",
       "      <td>22.000000</td>\n",
       "      <td>4</td>\n",
       "      <td>2</td>\n",
       "      <td>12.2875</td>\n",
       "      <td>True</td>\n",
       "      <td>False</td>\n",
       "    </tr>\n",
       "    <tr>\n",
       "      <th>...</th>\n",
       "      <td>...</td>\n",
       "      <td>...</td>\n",
       "      <td>...</td>\n",
       "      <td>...</td>\n",
       "      <td>...</td>\n",
       "      <td>...</td>\n",
       "      <td>...</td>\n",
       "    </tr>\n",
       "    <tr>\n",
       "      <th>413</th>\n",
       "      <td>3</td>\n",
       "      <td>24.027945</td>\n",
       "      <td>5</td>\n",
       "      <td>3</td>\n",
       "      <td>8.0500</td>\n",
       "      <td>False</td>\n",
       "      <td>True</td>\n",
       "    </tr>\n",
       "    <tr>\n",
       "      <th>414</th>\n",
       "      <td>1</td>\n",
       "      <td>39.000000</td>\n",
       "      <td>3</td>\n",
       "      <td>5</td>\n",
       "      <td>108.9000</td>\n",
       "      <td>True</td>\n",
       "      <td>False</td>\n",
       "    </tr>\n",
       "    <tr>\n",
       "      <th>415</th>\n",
       "      <td>3</td>\n",
       "      <td>38.500000</td>\n",
       "      <td>5</td>\n",
       "      <td>3</td>\n",
       "      <td>7.2500</td>\n",
       "      <td>False</td>\n",
       "      <td>True</td>\n",
       "    </tr>\n",
       "    <tr>\n",
       "      <th>416</th>\n",
       "      <td>3</td>\n",
       "      <td>24.027945</td>\n",
       "      <td>5</td>\n",
       "      <td>3</td>\n",
       "      <td>8.0500</td>\n",
       "      <td>False</td>\n",
       "      <td>True</td>\n",
       "    </tr>\n",
       "    <tr>\n",
       "      <th>417</th>\n",
       "      <td>3</td>\n",
       "      <td>24.027945</td>\n",
       "      <td>5</td>\n",
       "      <td>1</td>\n",
       "      <td>22.3583</td>\n",
       "      <td>False</td>\n",
       "      <td>True</td>\n",
       "    </tr>\n",
       "  </tbody>\n",
       "</table>\n",
       "<p>418 rows × 7 columns</p>\n",
       "</div>"
      ],
      "text/plain": [
       "     Pclass        Age  Priority  Title      Fare  Sex_female  Sex_male\n",
       "0         3  34.500000         5      3    7.8292       False      True\n",
       "1         3  47.000000         4      2    7.0000        True     False\n",
       "2         2  62.000000         5      3    9.6875       False      True\n",
       "3         3  27.000000         5      3    8.6625       False      True\n",
       "4         3  22.000000         4      2   12.2875        True     False\n",
       "..      ...        ...       ...    ...       ...         ...       ...\n",
       "413       3  24.027945         5      3    8.0500       False      True\n",
       "414       1  39.000000         3      5  108.9000        True     False\n",
       "415       3  38.500000         5      3    7.2500       False      True\n",
       "416       3  24.027945         5      3    8.0500       False      True\n",
       "417       3  24.027945         5      1   22.3583       False      True\n",
       "\n",
       "[418 rows x 7 columns]"
      ]
     },
     "execution_count": 290,
     "metadata": {},
     "output_type": "execute_result"
    }
   ],
   "source": [
    "new_df_test = df_test[['Pclass','Age','Sex','Name','Fare']]\n",
    "new_df_test['Priority'] = new_df_test.apply(priorityFunction, axis=1)\n",
    "new_df_test[\"Title\"] = new_df_test['Name'].apply(lambda x: Get_Title(x))\n",
    "new_df_test = new_df_test[['Pclass','Age','Sex','Priority','Title','Fare']]\n",
    "new_df_test = pd.get_dummies(new_df_test)\n",
    "new_df_test['Fare'] = new_df_test['Fare'].fillna(new_df_test['Fare'].mean())\n",
    "new_df_test['Age'] = new_df_test.groupby('Pclass')['Age'].transform(lambda x: x.fillna(x.mean()))\n",
    "new_df_test"
   ]
  },
  {
   "cell_type": "code",
   "execution_count": 291,
   "metadata": {
    "execution": {
     "iopub.execute_input": "2025-08-18T19:57:24.151549Z",
     "iopub.status.busy": "2025-08-18T19:57:24.151114Z",
     "iopub.status.idle": "2025-08-18T19:57:24.159387Z",
     "shell.execute_reply": "2025-08-18T19:57:24.158482Z",
     "shell.execute_reply.started": "2025-08-18T19:57:24.151526Z"
    }
   },
   "outputs": [
    {
     "data": {
      "text/plain": [
       "Pclass        0\n",
       "Age           0\n",
       "Priority      0\n",
       "Title         0\n",
       "Fare          0\n",
       "Sex_female    0\n",
       "Sex_male      0\n",
       "dtype: int64"
      ]
     },
     "execution_count": 291,
     "metadata": {},
     "output_type": "execute_result"
    }
   ],
   "source": [
    "new_df_test.isnull().sum()"
   ]
  },
  {
   "cell_type": "code",
   "execution_count": 292,
   "metadata": {
    "execution": {
     "iopub.execute_input": "2025-08-18T19:57:37.180809Z",
     "iopub.status.busy": "2025-08-18T19:57:37.180510Z",
     "iopub.status.idle": "2025-08-18T19:57:37.188262Z",
     "shell.execute_reply": "2025-08-18T19:57:37.187195Z",
     "shell.execute_reply.started": "2025-08-18T19:57:37.180788Z"
    }
   },
   "outputs": [],
   "source": [
    "from sklearn.preprocessing import StandardScaler\n",
    "X_test_scaled = scaler.transform(new_df_test)"
   ]
  },
  {
   "cell_type": "code",
   "execution_count": 293,
   "metadata": {
    "execution": {
     "iopub.execute_input": "2025-08-18T19:57:37.886676Z",
     "iopub.status.busy": "2025-08-18T19:57:37.885910Z",
     "iopub.status.idle": "2025-08-18T19:57:37.891405Z",
     "shell.execute_reply": "2025-08-18T19:57:37.890394Z",
     "shell.execute_reply.started": "2025-08-18T19:57:37.886648Z"
    }
   },
   "outputs": [],
   "source": [
    "# Usa tu modelo ya entrenado (ej.: XGBoost, LogisticRegression)\n",
    "y_test_pred = model.predict(X_test_scaled)  # Predice 0 (No sobrevivió) o 1 (Sobrevivió)"
   ]
  },
  {
   "cell_type": "code",
   "execution_count": 295,
   "metadata": {
    "execution": {
     "iopub.execute_input": "2025-08-18T19:57:48.027855Z",
     "iopub.status.busy": "2025-08-18T19:57:48.026897Z",
     "iopub.status.idle": "2025-08-18T19:57:48.035464Z",
     "shell.execute_reply": "2025-08-18T19:57:48.034314Z",
     "shell.execute_reply.started": "2025-08-18T19:57:48.027828Z"
    }
   },
   "outputs": [],
   "source": [
    "# Crear DataFrame de submission\n",
    "submission = pd.DataFrame({\n",
    "    \"PassengerId\": df_test[\"PassengerId\"],  # IDs originales de test.csv\n",
    "    \"Survived\": y_test_pred  # Tus predicciones\n",
    "})\n",
    "\n",
    "# Guardar como CSV (sin índice)\n",
    "submission.to_csv(\"titanic_submission7.csv\", index=False)"
   ]
  },
  {
   "cell_type": "code",
   "execution_count": 95,
   "metadata": {
    "execution": {
     "iopub.execute_input": "2025-08-18T19:11:24.861935Z",
     "iopub.status.busy": "2025-08-18T19:11:24.860159Z",
     "iopub.status.idle": "2025-08-18T19:11:25.062149Z",
     "shell.execute_reply": "2025-08-18T19:11:25.060862Z",
     "shell.execute_reply.started": "2025-08-18T19:11:24.861894Z"
    }
   },
   "outputs": [
    {
     "name": "stdout",
     "output_type": "stream",
     "text": [
      "Matriz de Confusión:\n",
      " [[88 17]\n",
      " [20 54]]\n",
      "              precision    recall  f1-score   support\n",
      "\n",
      "           0       0.82      0.84      0.83       105\n",
      "           1       0.76      0.74      0.75        74\n",
      "\n",
      "    accuracy                           0.80       179\n",
      "   macro avg       0.79      0.79      0.79       179\n",
      "weighted avg       0.80      0.80      0.80       179\n",
      "\n"
     ]
    }
   ],
   "source": [
    "from sklearn.ensemble import RandomForestClassifier\n",
    "rf = RandomForestClassifier(class_weight=\"balanced\")\n",
    "rf.fit(X_train_scaled, y_train)\n",
    "print(\"Matriz de Confusión:\\n\", confusion_matrix(y_val, y_pred))\n",
    "print(classification_report(y_val, rf.predict(X_val_scaled)))"
   ]
  },
  {
   "cell_type": "markdown",
   "metadata": {},
   "source": [
    "Graficas"
   ]
  },
  {
   "cell_type": "code",
   "execution_count": null,
   "metadata": {
    "execution": {
     "iopub.execute_input": "2025-08-15T20:11:23.497884Z",
     "iopub.status.busy": "2025-08-15T20:11:23.497604Z",
     "iopub.status.idle": "2025-08-15T20:11:23.507940Z",
     "shell.execute_reply": "2025-08-15T20:11:23.506812Z",
     "shell.execute_reply.started": "2025-08-15T20:11:23.497864Z"
    }
   },
   "outputs": [],
   "source": [
    "df[['Pclass']]"
   ]
  },
  {
   "cell_type": "code",
   "execution_count": 52,
   "metadata": {
    "execution": {
     "iopub.execute_input": "2025-08-18T18:26:43.292292Z",
     "iopub.status.busy": "2025-08-18T18:26:43.291935Z",
     "iopub.status.idle": "2025-08-18T18:26:43.299869Z",
     "shell.execute_reply": "2025-08-18T18:26:43.298609Z",
     "shell.execute_reply.started": "2025-08-18T18:26:43.292270Z"
    }
   },
   "outputs": [],
   "source": [
    "classTitanic = pd.get_dummies(df[['Pclass']])"
   ]
  },
  {
   "cell_type": "code",
   "execution_count": null,
   "metadata": {
    "execution": {
     "iopub.execute_input": "2025-08-15T20:11:25.385871Z",
     "iopub.status.busy": "2025-08-15T20:11:25.385555Z",
     "iopub.status.idle": "2025-08-15T20:11:25.652763Z",
     "shell.execute_reply": "2025-08-15T20:11:25.651863Z",
     "shell.execute_reply.started": "2025-08-15T20:11:25.385844Z"
    }
   },
   "outputs": [],
   "source": [
    "counts = df['Pclass'].value_counts().sort_index()\n",
    "\n",
    "plt.figure(figsize=(8, 5))\n",
    "plt.bar(counts.index, counts.values, color=\"red\")\n",
    "plt.xlabel('Clase')\n",
    "plt.ylabel('Frecuencia')\n",
    "plt.title('Distribución de valores')\n",
    "plt.xticks([1, 2, 3]) \n",
    "plt.show()"
   ]
  },
  {
   "cell_type": "code",
   "execution_count": null,
   "metadata": {
    "execution": {
     "iopub.execute_input": "2025-08-15T20:11:27.246613Z",
     "iopub.status.busy": "2025-08-15T20:11:27.246294Z",
     "iopub.status.idle": "2025-08-15T20:11:27.251765Z",
     "shell.execute_reply": "2025-08-15T20:11:27.250938Z",
     "shell.execute_reply.started": "2025-08-15T20:11:27.246589Z"
    }
   },
   "outputs": [],
   "source": [
    "dfSurvived = df[['Survived','Pclass']]"
   ]
  },
  {
   "cell_type": "code",
   "execution_count": null,
   "metadata": {
    "execution": {
     "iopub.execute_input": "2025-08-15T20:11:27.545671Z",
     "iopub.status.busy": "2025-08-15T20:11:27.545034Z",
     "iopub.status.idle": "2025-08-15T20:11:27.550221Z",
     "shell.execute_reply": "2025-08-15T20:11:27.549420Z",
     "shell.execute_reply.started": "2025-08-15T20:11:27.545636Z"
    }
   },
   "outputs": [],
   "source": [
    "df_survivors = dfSurvived[dfSurvived['Survived'] == 1]\n"
   ]
  },
  {
   "cell_type": "code",
   "execution_count": null,
   "metadata": {
    "execution": {
     "iopub.execute_input": "2025-08-15T20:11:28.610972Z",
     "iopub.status.busy": "2025-08-15T20:11:28.610637Z",
     "iopub.status.idle": "2025-08-15T20:11:28.620150Z",
     "shell.execute_reply": "2025-08-15T20:11:28.619376Z",
     "shell.execute_reply.started": "2025-08-15T20:11:28.610912Z"
    }
   },
   "outputs": [],
   "source": [
    "df_survivors"
   ]
  },
  {
   "cell_type": "code",
   "execution_count": null,
   "metadata": {
    "execution": {
     "iopub.execute_input": "2025-08-15T20:11:30.425326Z",
     "iopub.status.busy": "2025-08-15T20:11:30.425022Z",
     "iopub.status.idle": "2025-08-15T20:11:30.589632Z",
     "shell.execute_reply": "2025-08-15T20:11:30.588862Z",
     "shell.execute_reply.started": "2025-08-15T20:11:30.425302Z"
    }
   },
   "outputs": [],
   "source": [
    "counts = df_survivors['Pclass'].value_counts().sort_index()\n",
    "\n",
    "plt.figure(figsize=(8, 5))\n",
    "plt.bar(counts.index, counts.values)\n",
    "plt.xlabel('Clase')\n",
    "plt.ylabel('Frecuencia')\n",
    "plt.title('Distribución de valores')\n",
    "plt.xticks([1, 2, 3]) \n",
    "plt.show()"
   ]
  },
  {
   "cell_type": "code",
   "execution_count": null,
   "metadata": {
    "execution": {
     "iopub.execute_input": "2025-08-15T20:11:30.652120Z",
     "iopub.status.busy": "2025-08-15T20:11:30.651359Z",
     "iopub.status.idle": "2025-08-15T20:11:30.837898Z",
     "shell.execute_reply": "2025-08-15T20:11:30.837007Z",
     "shell.execute_reply.started": "2025-08-15T20:11:30.652091Z"
    }
   },
   "outputs": [],
   "source": [
    "import numpy as np\n",
    "\n",
    "# Datos\n",
    "counts_all = df['Pclass'].value_counts().sort_index()\n",
    "counts_survivors = df_survivors['Pclass'].value_counts().sort_index()\n",
    "\n",
    "# Configurar posiciones\n",
    "x = np.arange(len(counts_all))  # [0, 1, 2]\n",
    "width = 0.35\n",
    "\n",
    "plt.figure(figsize=(10, 6))\n",
    "plt.bar(x - width/2, counts_all.values, width, label='Total', color='red', alpha=0.7)\n",
    "plt.bar(x + width/2, counts_survivors.values, width, label='Sobrevivientes', color='blue', alpha=0.7)\n",
    "\n",
    "plt.xlabel('Clase')\n",
    "plt.ylabel('Frecuencia')\n",
    "plt.title('Total vs Sobrevivientes')\n",
    "plt.xticks(x, [1, 2, 3])\n",
    "plt.legend()\n",
    "plt.show()"
   ]
  },
  {
   "cell_type": "code",
   "execution_count": null,
   "metadata": {
    "execution": {
     "iopub.execute_input": "2025-08-18T02:23:51.839765Z",
     "iopub.status.busy": "2025-08-18T02:23:51.839440Z",
     "iopub.status.idle": "2025-08-18T02:23:52.272213Z",
     "shell.execute_reply": "2025-08-18T02:23:52.271047Z",
     "shell.execute_reply.started": "2025-08-18T02:23:51.839740Z"
    }
   },
   "outputs": [],
   "source": [
    "import numpy as np\n",
    "import matplotlib.pyplot as plt\n",
    "\n",
    "# Filtrar solo hombres\n",
    "df_male = df[(df['Sex'] == 'male') & (df['Age'] < 15)]\n",
    "df_survivors_male = df[(df['Sex'] == 'male') & (df['Age'] < 15) & (df['Survived'] == 1)]\n",
    "\n",
    "# Contar hombres por clase (Pclass)\n",
    "counts_all = df_male['Pclass'].value_counts().sort_index()\n",
    "counts_survivors = df_survivors_male['Pclass'].value_counts().sort_index()\n",
    "\n",
    "# Asegurar que las clases estén en el mismo orden\n",
    "classes = sorted(df['Pclass'].unique())\n",
    "x = np.arange(len(classes))\n",
    "width = 0.35\n",
    "\n",
    "# Reindexar para asegurarse que haya valores en todas las clases (incluso si alguno es 0)\n",
    "counts_all = counts_all.reindex(classes, fill_value=0)\n",
    "counts_survivors = counts_survivors.reindex(classes, fill_value=0)\n",
    "\n",
    "# Graficar\n",
    "plt.figure(figsize=(10, 6))\n",
    "plt.bar(x - width/2, counts_all.values, width, label='Total', color='red', alpha=0.7)\n",
    "plt.bar(x + width/2, counts_survivors.values, width, label='Sobrevivientes', color='blue', alpha=0.7)\n",
    "\n",
    "plt.xlabel('Clase')\n",
    "plt.ylabel('Cantidad de hombres')\n",
    "plt.title('Total de hombres vs Sobrevivientes por clase')\n",
    "plt.xticks(x, classes)\n",
    "plt.legend()\n",
    "plt.tight_layout()\n",
    "plt.show()\n"
   ]
  },
  {
   "cell_type": "code",
   "execution_count": null,
   "metadata": {
    "execution": {
     "iopub.execute_input": "2025-08-15T20:11:35.594998Z",
     "iopub.status.busy": "2025-08-15T20:11:35.594631Z",
     "iopub.status.idle": "2025-08-15T20:11:37.261730Z",
     "shell.execute_reply": "2025-08-15T20:11:37.260874Z",
     "shell.execute_reply.started": "2025-08-15T20:11:35.594971Z"
    }
   },
   "outputs": [],
   "source": [
    "import numpy as np\n",
    "import matplotlib.pyplot as plt\n",
    "\n",
    "# Parámetros\n",
    "sexos = ['male', 'female']\n",
    "edades = ['<15', '15-30', '30-50', '50+']\n",
    "\n",
    "for sexo in sexos:\n",
    "    for edad_cond in edades:\n",
    "        # Condiciones de filtrado\n",
    "        if edad_cond == '<15':\n",
    "            df_filtered = df[(df['Sex'] == sexo) & (df['Age'] < 15)]\n",
    "            edad_label = 'menores de 15'\n",
    "        elif edad_cond == '15-30':\n",
    "            df_filtered = df[(df['Sex'] == sexo) & (df['Age'] >= 15) & (df['Age'] < 30)]\n",
    "            edad_label = 'de 15 a 30 años'\n",
    "        elif edad_cond == '30-50':\n",
    "            df_filtered = df[(df['Sex'] == sexo) & (df['Age'] >= 30) & (df['Age'] < 50)]\n",
    "            edad_label = 'de 30 a 50 años'\n",
    "        else:  # '50+'\n",
    "            df_filtered = df[(df['Sex'] == sexo) & (df['Age'] >= 50)]\n",
    "            edad_label = 'mayores de 50'\n",
    "            \n",
    "        df_survivors = df_filtered[df_filtered['Survived'] == 1]\n",
    "        \n",
    "        # Contar por clase\n",
    "        counts_all = df_filtered['Pclass'].value_counts().sort_index()\n",
    "        counts_survivors = df_survivors['Pclass'].value_counts().sort_index()\n",
    "        \n",
    "        # Clases ordenadas y reindexadas\n",
    "        classes = sorted(df['Pclass'].unique())\n",
    "        counts_all = counts_all.reindex(classes, fill_value=0)\n",
    "        counts_survivors = counts_survivors.reindex(classes, fill_value=0)\n",
    "        \n",
    "        x = np.arange(len(classes))\n",
    "        width = 0.35\n",
    "        \n",
    "        # Graficar\n",
    "        plt.figure(figsize=(10, 6))\n",
    "        plt.bar(x - width/2, counts_all.values, width, label='Total', color='red', alpha=0.7)\n",
    "        plt.bar(x + width/2, counts_survivors.values, width, label='Sobrevivientes', color='blue', alpha=0.7)\n",
    "        \n",
    "        plt.xlabel('Clase')\n",
    "        plt.ylabel(f'Cantidad de {sexo}')\n",
    "        plt.title(f'{sexo.capitalize()}s {edad_label}: Total vs Sobrevivientes por clase')\n",
    "        plt.xticks(x, classes)\n",
    "        plt.legend()\n",
    "        plt.tight_layout()\n",
    "        plt.show()"
   ]
  },
  {
   "cell_type": "code",
   "execution_count": null,
   "metadata": {
    "execution": {
     "iopub.execute_input": "2025-08-15T20:11:37.263224Z",
     "iopub.status.busy": "2025-08-15T20:11:37.262948Z",
     "iopub.status.idle": "2025-08-15T20:11:37.267745Z",
     "shell.execute_reply": "2025-08-15T20:11:37.266993Z",
     "shell.execute_reply.started": "2025-08-15T20:11:37.263203Z"
    }
   },
   "outputs": [],
   "source": [
    "#Función que crea prioridad según la edad, el sexo y la clase de la persona\n",
    "def priorityFunction(row):\n",
    "    if row['Age']<=5 and row['Pclass'] == 1: #Niños pequeños primera clase\n",
    "        return 1\n"
   ]
  },
  {
   "cell_type": "code",
   "execution_count": null,
   "metadata": {
    "execution": {
     "iopub.execute_input": "2025-08-18T02:03:24.967959Z",
     "iopub.status.busy": "2025-08-18T02:03:24.967679Z",
     "iopub.status.idle": "2025-08-18T02:03:25.006850Z",
     "shell.execute_reply": "2025-08-18T02:03:25.005213Z",
     "shell.execute_reply.started": "2025-08-18T02:03:24.967939Z"
    }
   },
   "outputs": [],
   "source": [
    "df.head()"
   ]
  },
  {
   "cell_type": "code",
   "execution_count": null,
   "metadata": {
    "execution": {
     "iopub.execute_input": "2025-08-18T02:06:18.995786Z",
     "iopub.status.busy": "2025-08-18T02:06:18.995424Z",
     "iopub.status.idle": "2025-08-18T02:06:19.015644Z",
     "shell.execute_reply": "2025-08-18T02:06:19.014758Z",
     "shell.execute_reply.started": "2025-08-18T02:06:18.995759Z"
    }
   },
   "outputs": [],
   "source": [
    "df[[\"Name\"]]"
   ]
  },
  {
   "cell_type": "code",
   "execution_count": 36,
   "metadata": {
    "execution": {
     "iopub.execute_input": "2025-08-18T18:20:45.210007Z",
     "iopub.status.busy": "2025-08-18T18:20:45.209000Z",
     "iopub.status.idle": "2025-08-18T18:20:45.216656Z",
     "shell.execute_reply": "2025-08-18T18:20:45.215505Z",
     "shell.execute_reply.started": "2025-08-18T18:20:45.209981Z"
    }
   },
   "outputs": [],
   "source": [
    "df[\"Title\"] = df['Name'].apply(lambda x: Get_Title(x))"
   ]
  },
  {
   "cell_type": "code",
   "execution_count": 37,
   "metadata": {
    "execution": {
     "iopub.execute_input": "2025-08-18T18:20:47.425319Z",
     "iopub.status.busy": "2025-08-18T18:20:47.424946Z",
     "iopub.status.idle": "2025-08-18T18:20:47.432525Z",
     "shell.execute_reply": "2025-08-18T18:20:47.431424Z",
     "shell.execute_reply.started": "2025-08-18T18:20:47.425293Z"
    }
   },
   "outputs": [
    {
     "data": {
      "text/plain": [
       "0"
      ]
     },
     "execution_count": 37,
     "metadata": {},
     "output_type": "execute_result"
    }
   ],
   "source": [
    "df['Title'].isnull().sum()"
   ]
  }
 ],
 "metadata": {
  "kaggle": {
   "accelerator": "none",
   "dataSources": [
    {
     "databundleVersionId": 26502,
     "sourceId": 3136,
     "sourceType": "competition"
    }
   ],
   "dockerImageVersionId": 31089,
   "isGpuEnabled": false,
   "isInternetEnabled": true,
   "language": "python",
   "sourceType": "notebook"
  },
  "kernelspec": {
   "display_name": "Python 3 (ipykernel)",
   "language": "python",
   "name": "python3"
  },
  "language_info": {
   "codemirror_mode": {
    "name": "ipython",
    "version": 3
   },
   "file_extension": ".py",
   "mimetype": "text/x-python",
   "name": "python",
   "nbconvert_exporter": "python",
   "pygments_lexer": "ipython3",
   "version": "3.11.5"
  }
 },
 "nbformat": 4,
 "nbformat_minor": 4
}
